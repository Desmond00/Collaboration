{
 "cells": [
  {
   "cell_type": "code",
   "execution_count": 1,
   "metadata": {},
   "outputs": [],
   "source": [
    "import pandas as pd\n",
    "import numpy as np"
   ]
  },
  {
   "cell_type": "code",
   "execution_count": 2,
   "metadata": {},
   "outputs": [],
   "source": [
    "import matplotlib.pyplot as plt\n",
    "import seaborn as sns\n",
    "%matplotlib inline"
   ]
  },
  {
   "cell_type": "code",
   "execution_count": 3,
   "metadata": {},
   "outputs": [],
   "source": [
    "dfTrain = pd.read_csv('kddTrain.csv')\n",
    "dfTest = pd.read_csv('kddTest.csv')\n",
    "#It can be found here https://mega.nz/#!qpNWUBia!2rAtAmt8F3lcXqSC18yhKhRonlFt0DdnB51c24uAXzk\n",
    "#P.S. open the link in Desktop browser or in desktop mode of your mobile browser for best availability"
   ]
  },
  {
   "cell_type": "code",
   "execution_count": 4,
   "metadata": {},
   "outputs": [
    {
     "data": {
      "text/html": [
       "<div>\n",
       "<style scoped>\n",
       "    .dataframe tbody tr th:only-of-type {\n",
       "        vertical-align: middle;\n",
       "    }\n",
       "\n",
       "    .dataframe tbody tr th {\n",
       "        vertical-align: top;\n",
       "    }\n",
       "\n",
       "    .dataframe thead th {\n",
       "        text-align: right;\n",
       "    }\n",
       "</style>\n",
       "<table border=\"1\" class=\"dataframe\">\n",
       "  <thead>\n",
       "    <tr style=\"text-align: right;\">\n",
       "      <th></th>\n",
       "      <th>0</th>\n",
       "      <th>1</th>\n",
       "      <th>2</th>\n",
       "      <th>3</th>\n",
       "      <th>4</th>\n",
       "      <th>5</th>\n",
       "      <th>6</th>\n",
       "      <th>7</th>\n",
       "      <th>8</th>\n",
       "      <th>9</th>\n",
       "      <th>...</th>\n",
       "      <th>32</th>\n",
       "      <th>33</th>\n",
       "      <th>34</th>\n",
       "      <th>35</th>\n",
       "      <th>36</th>\n",
       "      <th>37</th>\n",
       "      <th>38</th>\n",
       "      <th>39</th>\n",
       "      <th>40</th>\n",
       "      <th>41</th>\n",
       "    </tr>\n",
       "  </thead>\n",
       "  <tbody>\n",
       "    <tr>\n",
       "      <th>0</th>\n",
       "      <td>0</td>\n",
       "      <td>0</td>\n",
       "      <td>14</td>\n",
       "      <td>9</td>\n",
       "      <td>1032</td>\n",
       "      <td>0</td>\n",
       "      <td>0</td>\n",
       "      <td>0</td>\n",
       "      <td>0</td>\n",
       "      <td>0</td>\n",
       "      <td>...</td>\n",
       "      <td>255</td>\n",
       "      <td>1.0</td>\n",
       "      <td>0.0</td>\n",
       "      <td>1.0</td>\n",
       "      <td>0.0</td>\n",
       "      <td>0.0</td>\n",
       "      <td>0.0</td>\n",
       "      <td>0.0</td>\n",
       "      <td>0.0</td>\n",
       "      <td>1</td>\n",
       "    </tr>\n",
       "    <tr>\n",
       "      <th>1</th>\n",
       "      <td>0</td>\n",
       "      <td>0</td>\n",
       "      <td>14</td>\n",
       "      <td>9</td>\n",
       "      <td>1032</td>\n",
       "      <td>0</td>\n",
       "      <td>0</td>\n",
       "      <td>0</td>\n",
       "      <td>0</td>\n",
       "      <td>0</td>\n",
       "      <td>...</td>\n",
       "      <td>255</td>\n",
       "      <td>1.0</td>\n",
       "      <td>0.0</td>\n",
       "      <td>1.0</td>\n",
       "      <td>0.0</td>\n",
       "      <td>0.0</td>\n",
       "      <td>0.0</td>\n",
       "      <td>0.0</td>\n",
       "      <td>0.0</td>\n",
       "      <td>1</td>\n",
       "    </tr>\n",
       "    <tr>\n",
       "      <th>2</th>\n",
       "      <td>0</td>\n",
       "      <td>0</td>\n",
       "      <td>14</td>\n",
       "      <td>9</td>\n",
       "      <td>1032</td>\n",
       "      <td>0</td>\n",
       "      <td>0</td>\n",
       "      <td>0</td>\n",
       "      <td>0</td>\n",
       "      <td>0</td>\n",
       "      <td>...</td>\n",
       "      <td>255</td>\n",
       "      <td>1.0</td>\n",
       "      <td>0.0</td>\n",
       "      <td>1.0</td>\n",
       "      <td>0.0</td>\n",
       "      <td>0.0</td>\n",
       "      <td>0.0</td>\n",
       "      <td>0.0</td>\n",
       "      <td>0.0</td>\n",
       "      <td>1</td>\n",
       "    </tr>\n",
       "    <tr>\n",
       "      <th>3</th>\n",
       "      <td>0</td>\n",
       "      <td>0</td>\n",
       "      <td>14</td>\n",
       "      <td>9</td>\n",
       "      <td>1032</td>\n",
       "      <td>0</td>\n",
       "      <td>0</td>\n",
       "      <td>0</td>\n",
       "      <td>0</td>\n",
       "      <td>0</td>\n",
       "      <td>...</td>\n",
       "      <td>255</td>\n",
       "      <td>1.0</td>\n",
       "      <td>0.0</td>\n",
       "      <td>1.0</td>\n",
       "      <td>0.0</td>\n",
       "      <td>0.0</td>\n",
       "      <td>0.0</td>\n",
       "      <td>0.0</td>\n",
       "      <td>0.0</td>\n",
       "      <td>1</td>\n",
       "    </tr>\n",
       "    <tr>\n",
       "      <th>4</th>\n",
       "      <td>0</td>\n",
       "      <td>0</td>\n",
       "      <td>14</td>\n",
       "      <td>9</td>\n",
       "      <td>1032</td>\n",
       "      <td>0</td>\n",
       "      <td>0</td>\n",
       "      <td>0</td>\n",
       "      <td>0</td>\n",
       "      <td>0</td>\n",
       "      <td>...</td>\n",
       "      <td>255</td>\n",
       "      <td>1.0</td>\n",
       "      <td>0.0</td>\n",
       "      <td>1.0</td>\n",
       "      <td>0.0</td>\n",
       "      <td>0.0</td>\n",
       "      <td>0.0</td>\n",
       "      <td>0.0</td>\n",
       "      <td>0.0</td>\n",
       "      <td>1</td>\n",
       "    </tr>\n",
       "  </tbody>\n",
       "</table>\n",
       "<p>5 rows × 42 columns</p>\n",
       "</div>"
      ],
      "text/plain": [
       "   0  1   2  3     4  5  6  7  8  9 ...   32   33   34   35   36   37   38  \\\n",
       "0  0  0  14  9  1032  0  0  0  0  0 ...  255  1.0  0.0  1.0  0.0  0.0  0.0   \n",
       "1  0  0  14  9  1032  0  0  0  0  0 ...  255  1.0  0.0  1.0  0.0  0.0  0.0   \n",
       "2  0  0  14  9  1032  0  0  0  0  0 ...  255  1.0  0.0  1.0  0.0  0.0  0.0   \n",
       "3  0  0  14  9  1032  0  0  0  0  0 ...  255  1.0  0.0  1.0  0.0  0.0  0.0   \n",
       "4  0  0  14  9  1032  0  0  0  0  0 ...  255  1.0  0.0  1.0  0.0  0.0  0.0   \n",
       "\n",
       "    39   40  41  \n",
       "0  0.0  0.0   1  \n",
       "1  0.0  0.0   1  \n",
       "2  0.0  0.0   1  \n",
       "3  0.0  0.0   1  \n",
       "4  0.0  0.0   1  \n",
       "\n",
       "[5 rows x 42 columns]"
      ]
     },
     "execution_count": 4,
     "metadata": {},
     "output_type": "execute_result"
    }
   ],
   "source": [
    "dfTrain.head()"
   ]
  },
  {
   "cell_type": "code",
   "execution_count": 5,
   "metadata": {},
   "outputs": [],
   "source": [
    "from sklearn.preprocessing import StandardScaler"
   ]
  },
  {
   "cell_type": "code",
   "execution_count": 6,
   "metadata": {},
   "outputs": [],
   "source": [
    "scaler = StandardScaler()"
   ]
  },
  {
   "cell_type": "markdown",
   "metadata": {},
   "source": [
    "<h6>Scaling the training set</h6>"
   ]
  },
  {
   "cell_type": "code",
   "execution_count": 7,
   "metadata": {},
   "outputs": [],
   "source": [
    "scaler.fit(dfTrain.drop('41', axis=1))\n",
    "scaledTrainingFeatures = scaler.transform(dfTrain.drop('41', axis=1))"
   ]
  },
  {
   "cell_type": "markdown",
   "metadata": {},
   "source": [
    "<h6>Scaling the testing set</h6>"
   ]
  },
  {
   "cell_type": "code",
   "execution_count": 8,
   "metadata": {},
   "outputs": [],
   "source": [
    "scaler.fit(dfTest.drop('41', axis=1))\n",
    "scaledTestingFeatures = scaler.transform(dfTest.drop('41', axis=1))"
   ]
  },
  {
   "cell_type": "code",
   "execution_count": 9,
   "metadata": {},
   "outputs": [
    {
     "data": {
      "text/plain": [
       "array([[-0.03263088, -0.71722614, -0.55780068, ..., -0.38013425,\n",
       "        -0.13611098, -0.13271038],\n",
       "       [-0.03263088, -0.71722614, -0.55780068, ..., -0.38013425,\n",
       "        -0.13611098, -0.13271038],\n",
       "       [-0.03263088, -0.71722614, -0.55780068, ..., -0.38013425,\n",
       "        -0.13611098, -0.13271038],\n",
       "       ...,\n",
       "       [-0.03263088,  1.16473534,  0.14314134, ..., -0.38013425,\n",
       "        -0.13611098, -0.13271038],\n",
       "       [-0.03263088, -0.71722614, -0.55780068, ..., -0.38013425,\n",
       "        -0.13611098, -0.13271038],\n",
       "       [-0.03263088,  1.16473534,  2.15834965, ...,  2.63587189,\n",
       "        -0.13611098, -0.13271038]])"
      ]
     },
     "execution_count": 9,
     "metadata": {},
     "output_type": "execute_result"
    }
   ],
   "source": [
    "scaledTrainingFeatures"
   ]
  },
  {
   "cell_type": "code",
   "execution_count": 11,
   "metadata": {},
   "outputs": [],
   "source": [
    "dfTrainFeatures = pd.DataFrame(scaledTrainingFeatures, columns=dfTrain.columns[:-1])"
   ]
  },
  {
   "cell_type": "code",
   "execution_count": 12,
   "metadata": {},
   "outputs": [
    {
     "data": {
      "text/html": [
       "<div>\n",
       "<style scoped>\n",
       "    .dataframe tbody tr th:only-of-type {\n",
       "        vertical-align: middle;\n",
       "    }\n",
       "\n",
       "    .dataframe tbody tr th {\n",
       "        vertical-align: top;\n",
       "    }\n",
       "\n",
       "    .dataframe thead th {\n",
       "        text-align: right;\n",
       "    }\n",
       "</style>\n",
       "<table border=\"1\" class=\"dataframe\">\n",
       "  <thead>\n",
       "    <tr style=\"text-align: right;\">\n",
       "      <th></th>\n",
       "      <th>0</th>\n",
       "      <th>1</th>\n",
       "      <th>2</th>\n",
       "      <th>3</th>\n",
       "      <th>4</th>\n",
       "      <th>5</th>\n",
       "      <th>6</th>\n",
       "      <th>7</th>\n",
       "      <th>8</th>\n",
       "      <th>9</th>\n",
       "      <th>...</th>\n",
       "      <th>31</th>\n",
       "      <th>32</th>\n",
       "      <th>33</th>\n",
       "      <th>34</th>\n",
       "      <th>35</th>\n",
       "      <th>36</th>\n",
       "      <th>37</th>\n",
       "      <th>38</th>\n",
       "      <th>39</th>\n",
       "      <th>40</th>\n",
       "    </tr>\n",
       "  </thead>\n",
       "  <tbody>\n",
       "    <tr>\n",
       "      <th>0</th>\n",
       "      <td>-0.032631</td>\n",
       "      <td>-0.717226</td>\n",
       "      <td>-0.557801</td>\n",
       "      <td>0.390241</td>\n",
       "      <td>-0.002681</td>\n",
       "      <td>-0.028888</td>\n",
       "      <td>-0.007185</td>\n",
       "      <td>-0.037076</td>\n",
       "      <td>-0.003149</td>\n",
       "      <td>-0.051478</td>\n",
       "      <td>...</td>\n",
       "      <td>0.388857</td>\n",
       "      <td>0.471474</td>\n",
       "      <td>0.44098</td>\n",
       "      <td>-0.216596</td>\n",
       "      <td>0.724146</td>\n",
       "      <td>-0.187</td>\n",
       "      <td>-0.381528</td>\n",
       "      <td>-0.380134</td>\n",
       "      <td>-0.136111</td>\n",
       "      <td>-0.13271</td>\n",
       "    </tr>\n",
       "    <tr>\n",
       "      <th>1</th>\n",
       "      <td>-0.032631</td>\n",
       "      <td>-0.717226</td>\n",
       "      <td>-0.557801</td>\n",
       "      <td>0.390241</td>\n",
       "      <td>-0.002681</td>\n",
       "      <td>-0.028888</td>\n",
       "      <td>-0.007185</td>\n",
       "      <td>-0.037076</td>\n",
       "      <td>-0.003149</td>\n",
       "      <td>-0.051478</td>\n",
       "      <td>...</td>\n",
       "      <td>0.388857</td>\n",
       "      <td>0.471474</td>\n",
       "      <td>0.44098</td>\n",
       "      <td>-0.216596</td>\n",
       "      <td>0.724146</td>\n",
       "      <td>-0.187</td>\n",
       "      <td>-0.381528</td>\n",
       "      <td>-0.380134</td>\n",
       "      <td>-0.136111</td>\n",
       "      <td>-0.13271</td>\n",
       "    </tr>\n",
       "    <tr>\n",
       "      <th>2</th>\n",
       "      <td>-0.032631</td>\n",
       "      <td>-0.717226</td>\n",
       "      <td>-0.557801</td>\n",
       "      <td>0.390241</td>\n",
       "      <td>-0.002681</td>\n",
       "      <td>-0.028888</td>\n",
       "      <td>-0.007185</td>\n",
       "      <td>-0.037076</td>\n",
       "      <td>-0.003149</td>\n",
       "      <td>-0.051478</td>\n",
       "      <td>...</td>\n",
       "      <td>0.388857</td>\n",
       "      <td>0.471474</td>\n",
       "      <td>0.44098</td>\n",
       "      <td>-0.216596</td>\n",
       "      <td>0.724146</td>\n",
       "      <td>-0.187</td>\n",
       "      <td>-0.381528</td>\n",
       "      <td>-0.380134</td>\n",
       "      <td>-0.136111</td>\n",
       "      <td>-0.13271</td>\n",
       "    </tr>\n",
       "    <tr>\n",
       "      <th>3</th>\n",
       "      <td>-0.032631</td>\n",
       "      <td>-0.717226</td>\n",
       "      <td>-0.557801</td>\n",
       "      <td>0.390241</td>\n",
       "      <td>-0.002681</td>\n",
       "      <td>-0.028888</td>\n",
       "      <td>-0.007185</td>\n",
       "      <td>-0.037076</td>\n",
       "      <td>-0.003149</td>\n",
       "      <td>-0.051478</td>\n",
       "      <td>...</td>\n",
       "      <td>0.388857</td>\n",
       "      <td>0.471474</td>\n",
       "      <td>0.44098</td>\n",
       "      <td>-0.216596</td>\n",
       "      <td>0.724146</td>\n",
       "      <td>-0.187</td>\n",
       "      <td>-0.381528</td>\n",
       "      <td>-0.380134</td>\n",
       "      <td>-0.136111</td>\n",
       "      <td>-0.13271</td>\n",
       "    </tr>\n",
       "    <tr>\n",
       "      <th>4</th>\n",
       "      <td>-0.032631</td>\n",
       "      <td>-0.717226</td>\n",
       "      <td>-0.557801</td>\n",
       "      <td>0.390241</td>\n",
       "      <td>-0.002681</td>\n",
       "      <td>-0.028888</td>\n",
       "      <td>-0.007185</td>\n",
       "      <td>-0.037076</td>\n",
       "      <td>-0.003149</td>\n",
       "      <td>-0.051478</td>\n",
       "      <td>...</td>\n",
       "      <td>0.388857</td>\n",
       "      <td>0.471474</td>\n",
       "      <td>0.44098</td>\n",
       "      <td>-0.216596</td>\n",
       "      <td>0.724146</td>\n",
       "      <td>-0.187</td>\n",
       "      <td>-0.381528</td>\n",
       "      <td>-0.380134</td>\n",
       "      <td>-0.136111</td>\n",
       "      <td>-0.13271</td>\n",
       "    </tr>\n",
       "  </tbody>\n",
       "</table>\n",
       "<p>5 rows × 41 columns</p>\n",
       "</div>"
      ],
      "text/plain": [
       "          0         1         2         3         4         5         6  \\\n",
       "0 -0.032631 -0.717226 -0.557801  0.390241 -0.002681 -0.028888 -0.007185   \n",
       "1 -0.032631 -0.717226 -0.557801  0.390241 -0.002681 -0.028888 -0.007185   \n",
       "2 -0.032631 -0.717226 -0.557801  0.390241 -0.002681 -0.028888 -0.007185   \n",
       "3 -0.032631 -0.717226 -0.557801  0.390241 -0.002681 -0.028888 -0.007185   \n",
       "4 -0.032631 -0.717226 -0.557801  0.390241 -0.002681 -0.028888 -0.007185   \n",
       "\n",
       "          7         8         9   ...           31        32       33  \\\n",
       "0 -0.037076 -0.003149 -0.051478   ...     0.388857  0.471474  0.44098   \n",
       "1 -0.037076 -0.003149 -0.051478   ...     0.388857  0.471474  0.44098   \n",
       "2 -0.037076 -0.003149 -0.051478   ...     0.388857  0.471474  0.44098   \n",
       "3 -0.037076 -0.003149 -0.051478   ...     0.388857  0.471474  0.44098   \n",
       "4 -0.037076 -0.003149 -0.051478   ...     0.388857  0.471474  0.44098   \n",
       "\n",
       "         34        35     36        37        38        39       40  \n",
       "0 -0.216596  0.724146 -0.187 -0.381528 -0.380134 -0.136111 -0.13271  \n",
       "1 -0.216596  0.724146 -0.187 -0.381528 -0.380134 -0.136111 -0.13271  \n",
       "2 -0.216596  0.724146 -0.187 -0.381528 -0.380134 -0.136111 -0.13271  \n",
       "3 -0.216596  0.724146 -0.187 -0.381528 -0.380134 -0.136111 -0.13271  \n",
       "4 -0.216596  0.724146 -0.187 -0.381528 -0.380134 -0.136111 -0.13271  \n",
       "\n",
       "[5 rows x 41 columns]"
      ]
     },
     "execution_count": 12,
     "metadata": {},
     "output_type": "execute_result"
    }
   ],
   "source": [
    "dfTrainFeatures.head()"
   ]
  },
  {
   "cell_type": "code",
   "execution_count": 13,
   "metadata": {},
   "outputs": [],
   "source": [
    "X_train = dfTrainFeatures\n",
    "y_train = dfTrain['41']"
   ]
  },
  {
   "cell_type": "code",
   "execution_count": 15,
   "metadata": {},
   "outputs": [],
   "source": [
    "dfTestFeatures = pd.DataFrame(scaledTestingFeatures, columns=dfTest.columns[:-1])\n",
    "X_test = dfTestFeatures\n",
    "y_test = dfTest['41']"
   ]
  },
  {
   "cell_type": "code",
   "execution_count": 14,
   "metadata": {},
   "outputs": [],
   "source": [
    "from sklearn.neighbors import KNeighborsClassifier"
   ]
  },
  {
   "cell_type": "code",
   "execution_count": 15,
   "metadata": {},
   "outputs": [],
   "source": [
    "KNN = KNeighborsClassifier()"
   ]
  },
  {
   "cell_type": "code",
   "execution_count": 18,
   "metadata": {},
   "outputs": [
    {
     "data": {
      "text/plain": [
       "KNeighborsClassifier(algorithm='auto', leaf_size=30, metric='minkowski',\n",
       "           metric_params=None, n_jobs=1, n_neighbors=5, p=2,\n",
       "           weights='uniform')"
      ]
     },
     "execution_count": 18,
     "metadata": {},
     "output_type": "execute_result"
    }
   ],
   "source": [
    "KNN.fit(X_train, y_train)"
   ]
  },
  {
   "cell_type": "code",
   "execution_count": 19,
   "metadata": {},
   "outputs": [],
   "source": [
    "predictions = KNN.predict(X_test)"
   ]
  },
  {
   "cell_type": "code",
   "execution_count": 20,
   "metadata": {},
   "outputs": [],
   "source": [
    "from sklearn.metrics import classification_report, confusion_matrix"
   ]
  },
  {
   "cell_type": "code",
   "execution_count": 21,
   "metadata": {},
   "outputs": [
    {
     "name": "stdout",
     "output_type": "stream",
     "text": [
      "[[ 25136    917]\n",
      " [   776 137845]]\n",
      "\n",
      "\n",
      "             precision    recall  f1-score   support\n",
      "\n",
      "          0       0.97      0.96      0.97     26053\n",
      "          1       0.99      0.99      0.99    138621\n",
      "\n",
      "avg / total       0.99      0.99      0.99    164674\n",
      "\n"
     ]
    }
   ],
   "source": [
    "print(confusion_matrix(y_test, predictions))\n",
    "print ('\\n')\n",
    "print(classification_report(y_test, predictions))"
   ]
  },
  {
   "cell_type": "code",
   "execution_count": 22,
   "metadata": {},
   "outputs": [],
   "source": [
    "errorRate = []\n",
    "\n",
    "for i in range(1,40):\n",
    "    knn = KNeighborsClassifier(n_neighbors = i)\n",
    "    knn.fit(X_train,y_train)\n",
    "    predictionSamples = knn.predict(X_test)\n",
    "    errorRate.append(np.mean(predictionSamples != y_test))"
   ]
  },
  {
   "cell_type": "code",
   "execution_count": 23,
   "metadata": {
    "scrolled": true
   },
   "outputs": [
    {
     "data": {
      "text/plain": [
       "[<matplotlib.lines.Line2D at 0x15dafb7f668>]"
      ]
     },
     "execution_count": 23,
     "metadata": {},
     "output_type": "execute_result"
    },
    {
     "data": {
      "image/png": "[encoded data removed]",
      "text/plain": [
       "<matplotlib.figure.Figure at 0x15dad708a20>"
      ]
     },
     "metadata": {},
     "output_type": "display_data"
    }
   ],
   "source": [
    "plt.plot(range(1,40), errorRate, color='blue', linestyle='dashed', marker='o',\n",
    "     markerfacecolor='red', markersize=12)"
   ]
  },
  {
   "cell_type": "code",
   "execution_count": 10,
   "metadata": {},
   "outputs": [],
   "source": [
    "import timeit"
   ]
  },
  {
   "cell_type": "code",
   "execution_count": 12,
   "metadata": {},
   "outputs": [],
   "source": [
    "X_train_nparray = scaledTrainingFeatures\n",
    "X_test_nparray = scaledTestingFeatures\n",
    "y_train_nparray = dfTrain['41']\n",
    "y_test_nparray = dfTest['41']"
   ]
  },
  {
   "cell_type": "code",
   "execution_count": 13,
   "metadata": {},
   "outputs": [
    {
     "ename": "NameError",
     "evalue": "name 'KNeighborsClassifier' is not defined",
     "output_type": "error",
     "traceback": [
      "\u001b[1;31m---------------------------------------------------------------------------\u001b[0m",
      "\u001b[1;31mNameError\u001b[0m                                 Traceback (most recent call last)",
      "\u001b[1;32m<ipython-input-13-1237c2d15613>\u001b[0m in \u001b[0;36m<module>\u001b[1;34m()\u001b[0m\n\u001b[0;32m      1\u001b[0m \u001b[0mstartTime\u001b[0m \u001b[1;33m=\u001b[0m \u001b[0mtimeit\u001b[0m\u001b[1;33m.\u001b[0m\u001b[0mdefault_timer\u001b[0m\u001b[1;33m(\u001b[0m\u001b[1;33m)\u001b[0m\u001b[1;33m\u001b[0m\u001b[0m\n\u001b[1;32m----> 2\u001b[1;33m \u001b[0mknn\u001b[0m \u001b[1;33m=\u001b[0m \u001b[0mKNeighborsClassifier\u001b[0m\u001b[1;33m(\u001b[0m\u001b[0mn_neighbors\u001b[0m\u001b[1;33m=\u001b[0m \u001b[1;36m1\u001b[0m\u001b[1;33m)\u001b[0m\u001b[1;33m\u001b[0m\u001b[0m\n\u001b[0m\u001b[0;32m      3\u001b[0m \u001b[0mknn\u001b[0m\u001b[1;33m.\u001b[0m\u001b[0mfit\u001b[0m\u001b[1;33m(\u001b[0m\u001b[0mX_train_nparray\u001b[0m\u001b[1;33m,\u001b[0m \u001b[0my_train_nparray\u001b[0m\u001b[1;33m)\u001b[0m\u001b[1;33m\u001b[0m\u001b[0m\n\u001b[0;32m      4\u001b[0m \u001b[0mpredictions\u001b[0m \u001b[1;33m=\u001b[0m \u001b[0mknn\u001b[0m\u001b[1;33m.\u001b[0m\u001b[0mpredict\u001b[0m\u001b[1;33m(\u001b[0m\u001b[0mX_test_nparray\u001b[0m\u001b[1;33m)\u001b[0m\u001b[1;33m\u001b[0m\u001b[0m\n\u001b[0;32m      5\u001b[0m \u001b[0melapsedTime\u001b[0m \u001b[1;33m=\u001b[0m \u001b[0mtimeit\u001b[0m\u001b[1;33m.\u001b[0m\u001b[0mdefault_timer\u001b[0m\u001b[1;33m(\u001b[0m\u001b[1;33m)\u001b[0m \u001b[1;33m-\u001b[0m \u001b[0mstartTime\u001b[0m\u001b[1;33m\u001b[0m\u001b[0m\n",
      "\u001b[1;31mNameError\u001b[0m: name 'KNeighborsClassifier' is not defined"
     ]
    }
   ],
   "source": [
    "startTime = timeit.default_timer()\n",
    "knn = KNeighborsClassifier(n_neighbors= 1)\n",
    "knn.fit(X_train_nparray, y_train_nparray)\n",
    "predictions = knn.predict(X_test_nparray)\n",
    "elapsedTime = timeit.default_timer() - startTime\n",
    "print(\"elapsed time : \",elapsedTime)"
   ]
  },
  {
   "cell_type": "code",
   "execution_count": 26,
   "metadata": {
    "scrolled": true
   },
   "outputs": [
    {
     "name": "stdout",
     "output_type": "stream",
     "text": [
      "[[ 24747   1306]\n",
      " [   828 137793]]\n",
      "\n",
      "\n",
      "             precision    recall  f1-score   support\n",
      "\n",
      "          0       0.97      0.95      0.96     26053\n",
      "          1       0.99      0.99      0.99    138621\n",
      "\n",
      "avg / total       0.99      0.99      0.99    164674\n",
      "\n"
     ]
    }
   ],
   "source": [
    "print(confusion_matrix(y_test_nparray, predictions))\n",
    "print ('\\n')\n",
    "print(classification_report(y_test_nparray, predictions))"
   ]
  },
  {
   "cell_type": "code",
   "execution_count": 27,
   "metadata": {},
   "outputs": [
    {
     "data": {
      "text/plain": [
       "'TILL THIS ONLY KNN IS USED WHICH IS PROVIDING 96% ACCURACY WITH COMPUTATION TIME OF 0.0124'"
      ]
     },
     "execution_count": 27,
     "metadata": {},
     "output_type": "execute_result"
    }
   ],
   "source": [
    "'''TILL THIS ONLY KNN IS USED WHICH IS PROVIDING 96% ACCURACY WITH COMPUTATION TIME OF 0.0124'''"
   ]
  },
  {
   "cell_type": "code",
   "execution_count": null,
   "metadata": {},
   "outputs": [],
   "source": []
  },
  {
   "cell_type": "code",
   "execution_count": 28,
   "metadata": {},
   "outputs": [
    {
     "data": {
      "text/plain": [
       "'NOW FROM HERE WE HAVE PASSED THE WHOLE DATA TO OUR SCA ALGORITHM '"
      ]
     },
     "execution_count": 28,
     "metadata": {},
     "output_type": "execute_result"
    }
   ],
   "source": [
    "'''NOW FROM HERE WE HAVE PASSED THE WHOLE DATA TO OUR SCA ALGORITHM '''"
   ]
  },
  {
   "cell_type": "code",
   "execution_count": 29,
   "metadata": {},
   "outputs": [
    {
     "ename": "NameError",
     "evalue": "name 'dfTrainedFeatures' is not defined",
     "output_type": "error",
     "traceback": [
      "\u001b[1;31m---------------------------------------------------------------------------\u001b[0m",
      "\u001b[1;31mNameError\u001b[0m                                 Traceback (most recent call last)",
      "\u001b[1;32m<ipython-input-29-0fd29aa06afd>\u001b[0m in \u001b[0;36m<module>\u001b[1;34m()\u001b[0m\n\u001b[1;32m----> 1\u001b[1;33m \u001b[0mdata\u001b[0m \u001b[1;33m=\u001b[0m \u001b[0mdfTrainedFeatures\u001b[0m\u001b[1;33m\u001b[0m\u001b[0m\n\u001b[0m",
      "\u001b[1;31mNameError\u001b[0m: name 'dfTrainedFeatures' is not defined"
     ]
    }
   ],
   "source": [
    "data = dfTrainedFeatures"
   ]
  },
  {
   "cell_type": "code",
   "execution_count": null,
   "metadata": {},
   "outputs": [],
   "source": [
    "import random\n",
    "import math\n",
    "\n",
    "\n",
    "#SCA IMPLEMENTATION\n",
    "#begin\n",
    "totalFeatures = len(data.columns[:-1])\n",
    "a = 1\n",
    "r1 = a\n",
    "t = 0\n",
    "subsets = []    \n",
    "trainedFeatures = []\n",
    "#SETTING RANDOM SEED FOR REPRODUCABLE RESULTS\n",
    "random.seed(14)\n",
    "#Randomly initialization of each search agents in the population X(t = 1,2,...,m)\n",
    "subsets.append(random.sample(range(1,totalFeatures),int(totalFeatures/3)))#initializing first random subset\n",
    "lowestError = 100 #initializing as highest errorRate for comparison purpose\n",
    "\n",
    "\n",
    "#Function for checking the new generated subset tempSet is already present in the already initialized subsets or not\n",
    "def isRepeat(presentSubsets, newSubset):\n",
    "    #print(subsets)\n",
    "    #print(tempSet)\n",
    "    newSubset.sort()\n",
    "    for subset in presentSubsets:\n",
    "        subset.sort()\n",
    "        if(subset[:] == newSubset[:]):\n",
    "            return True\n",
    "    return False\n",
    "        \n",
    "#for generating random search agents in the population   \n",
    "def randomSearchAgents(m, n):\n",
    "    i = 1\n",
    "    while i<m:\n",
    "        X = random.sample(range(1,totalFeatures),n)\n",
    "        if (isRepeat(subsets, X) == False):\n",
    "            subsets.append(X)\n",
    "            i += 1\n",
    "        else:\n",
    "            continue\n",
    "            \n",
    "#EQUATION 1\n",
    "def updateUsingSineCosine(X):\n",
    "    featureSubset = []\n",
    "    for j in range(len(X)):\n",
    "        #print(X[j])\n",
    "#         if(s%2 == 0):\n",
    "        feature = int(X[j] + r1*math.sin(r2)*abs(r3*P[j]-X[j]))\n",
    "#         else:\n",
    "#             feature = int(X[j] + r1*math.cos(r2)*abs(r3*P[j]-X[j]))\n",
    "        feature %= totalFeatures\n",
    "        featureSubset.append(feature)\n",
    "    return featureSubset\n",
    "\n",
    "\n",
    "#FOR CHECKING THE SCORE FOR EACH SELECTED FEATURE SUBSET\n",
    "def trainTestScore(X, y):\n",
    "    X.head()\n",
    "    startTime = timeit.default_timer()\n",
    "    knn = KNeighborsClassifier(n_neighbors = 17)\n",
    "    knn.fit(X_train, y_train)\n",
    "    prediction = knn.predict(X_test)\n",
    "    elapsedTime = timeit.default_timer() - startTime\n",
    "#     print(\"time taken : \",elapsedTime)\n",
    "    error = np.mean(prediction != y_test)\n",
    "    errorRate.append(error)\n",
    "    return error\n",
    "\n",
    "#here subsets list contains the list of randomly initialized search agent indices\n",
    "\n",
    "#INITIALIZE the max numbers of iteration Tmax, we can take it as the total number of columns present\n",
    "Tmax = totalFeatures\n",
    "P = []\n",
    "\n",
    "'''randomly initialize feature subsets, parameter1 denotes total number of feature subsets, here taken as total no of feature avaiable\n",
    "and parameter 2 denotes number of features in each subsets, here we are considering one third of the total number of features'''\n",
    "\n",
    "randomSearchAgents(totalFeatures, int(totalFeatures/3))\n",
    "\n",
    "print(\"randomly initialized subsets: \",subsets)\n",
    "\n",
    "trainedFeatures = subsets[:]\n",
    "\n",
    "\n",
    "\n",
    "while t<Tmax:\n",
    "    #foreach search agent Xi in the population do\n",
    "    '''NOVEL \n",
    "        here the feature subsets generated by randomSearchAgents method are not repeatative, \n",
    "        if any randomly generated feature subset is already present in the previous generated \n",
    "        ones then it is neglected and a new feature subset is generated randomly and checked again.\n",
    "        This process continues until required number of feature subsets are generated which are all unique\n",
    "    NOVEL'''\n",
    "    for subset in subsets:\n",
    "        #Evaluate Xi via the fitness function. if f(Xi)\n",
    "        if(t > 0):\n",
    "            if(isRepeat(trainedFeatures, subset) == False):\n",
    "                trainedFeatures.append(subset)\n",
    "                #print(trainedFeatures)\n",
    "#                 print('new feature : ',subset, \"t=\",t)\n",
    "#             else:\n",
    "#                 print(\"repeat\")\n",
    "        error = trainTestScore(data.iloc[:,subset], df['TARGET CLASS'])\n",
    "#       print(\"subset : \",subset,\" error : \",error, \" lowest error : \", lowestError)\n",
    "        #if f(Xi) better than f(P) then\n",
    "        #Set P = Xi;\n",
    "        if (error < lowestError):\n",
    "            P = subset\n",
    "            lowestError = error\n",
    "\n",
    "    #Update r1 using equation 2\n",
    "\n",
    "    r1 = a - t*(a/Tmax)#equation 2\n",
    "\n",
    "    #Generate randomly new values for r2, r3 and s.\n",
    "\n",
    "    r2 = random.uniform(0.1, 1.0)\n",
    "    r3 = random.uniform(0.1, 1.0)\n",
    "#   print('\\n\\n r2:',r2,' r3:',r3,' r1:',r1)\n",
    "    #foreach search agent Xi in the population do\n",
    "    #Update Xi using equation 1.\n",
    "    for i in range(len(subsets)):\n",
    "        subsets[i] = updateUsingSineCosine(subsets[i])\n",
    "#     print(subsets)\n",
    "#     print(P)\n",
    "    t += 1\n",
    "#Return P best solution obtained so far.\n",
    "print(\"best solution: \",P)\n",
    "print(lowestError)"
   ]
  },
  {
   "cell_type": "code",
   "execution_count": null,
   "metadata": {},
   "outputs": [],
   "source": [
    "startTime = timeit.default_timer()\n",
    "knn = KNeighborsClassifier(n_neighbors = 17)\n",
    "knn.fit(X_train, y_train)\n",
    "prediction = knn.predict(X_test)\n",
    "elapsedTime = timeit.default_timer() - startTime\n",
    "print(\"time taken : \",elapsedTime)\n",
    "error = np.mean(prediction != y_test)\n",
    "print(\"error : \",error)"
   ]
  },
  {
   "cell_type": "code",
   "execution_count": null,
   "metadata": {},
   "outputs": [],
   "source": [
    "print(confusion_matrix(y_test, prediction))\n",
    "print ('\\n')\n",
    "print(classification_report(y_test, prediction))"
   ]
  },
  {
   "cell_type": "markdown",
   "metadata": {},
   "source": [
    "<h4>'''OUR SCA IS TAKIING VERY REDUCED TIME OF 0.0098 AND PROVIDING ACCURACY OF 94%'''</h4>"
   ]
  }
 ],
 "metadata": {
  "kernelspec": {
   "display_name": "Python 3",
   "language": "python",
   "name": "python3"
  },
  "language_info": {
   "codemirror_mode": {
    "name": "ipython",
    "version": 3
   },
   "file_extension": ".py",
   "mimetype": "text/x-python",
   "name": "python",
   "nbconvert_exporter": "python",
   "pygments_lexer": "ipython3",
   "version": "3.6.4"
  },
  "widgets": {
   "application/vnd.jupyter.widget-state+json": {
    "state": {},
    "version_major": 2,
    "version_minor": 0
   }
  }
 },
 "nbformat": 4,
 "nbformat_minor": 2
}
