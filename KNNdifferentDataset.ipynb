{
 "cells": [
  {
   "cell_type": "code",
   "execution_count": 1,
   "metadata": {
    "collapsed": true
   },
   "outputs": [],
   "source": [
    "import pandas as pd\n",
    "import numpy as np"
   ]
  },
  {
   "cell_type": "code",
   "execution_count": 2,
   "metadata": {
    "collapsed": true
   },
   "outputs": [],
   "source": [
    "import matplotlib.pyplot as plt\n",
    "import seaborn as sns\n",
    "%matplotlib inline"
   ]
  },
  {
   "cell_type": "code",
   "execution_count": 3,
   "metadata": {
    "collapsed": true
   },
   "outputs": [],
   "source": [
    "df = pd.read_csv('Classified Data')"
   ]
  },
  {
   "cell_type": "code",
   "execution_count": 4,
   "metadata": {
    "collapsed": false
   },
   "outputs": [
    {
     "data": {
      "text/html": [
       "<div>\n",
       "<style scoped>\n",
       "    .dataframe tbody tr th:only-of-type {\n",
       "        vertical-align: middle;\n",
       "    }\n",
       "\n",
       "    .dataframe tbody tr th {\n",
       "        vertical-align: top;\n",
       "    }\n",
       "\n",
       "    .dataframe thead th {\n",
       "        text-align: right;\n",
       "    }\n",
       "</style>\n",
       "<table border=\"1\" class=\"dataframe\">\n",
       "  <thead>\n",
       "    <tr style=\"text-align: right;\">\n",
       "      <th></th>\n",
       "      <th>Unnamed: 0</th>\n",
       "      <th>WTT</th>\n",
       "      <th>PTI</th>\n",
       "      <th>EQW</th>\n",
       "      <th>SBI</th>\n",
       "      <th>LQE</th>\n",
       "      <th>QWG</th>\n",
       "      <th>FDJ</th>\n",
       "      <th>PJF</th>\n",
       "      <th>HQE</th>\n",
       "      <th>NXJ</th>\n",
       "      <th>TARGET CLASS</th>\n",
       "    </tr>\n",
       "  </thead>\n",
       "  <tbody>\n",
       "    <tr>\n",
       "      <th>0</th>\n",
       "      <td>0</td>\n",
       "      <td>0.913917</td>\n",
       "      <td>1.162073</td>\n",
       "      <td>0.567946</td>\n",
       "      <td>0.755464</td>\n",
       "      <td>0.780862</td>\n",
       "      <td>0.352608</td>\n",
       "      <td>0.759697</td>\n",
       "      <td>0.643798</td>\n",
       "      <td>0.879422</td>\n",
       "      <td>1.231409</td>\n",
       "      <td>1</td>\n",
       "    </tr>\n",
       "    <tr>\n",
       "      <th>1</th>\n",
       "      <td>1</td>\n",
       "      <td>0.635632</td>\n",
       "      <td>1.003722</td>\n",
       "      <td>0.535342</td>\n",
       "      <td>0.825645</td>\n",
       "      <td>0.924109</td>\n",
       "      <td>0.648450</td>\n",
       "      <td>0.675334</td>\n",
       "      <td>1.013546</td>\n",
       "      <td>0.621552</td>\n",
       "      <td>1.492702</td>\n",
       "      <td>0</td>\n",
       "    </tr>\n",
       "    <tr>\n",
       "      <th>2</th>\n",
       "      <td>2</td>\n",
       "      <td>0.721360</td>\n",
       "      <td>1.201493</td>\n",
       "      <td>0.921990</td>\n",
       "      <td>0.855595</td>\n",
       "      <td>1.526629</td>\n",
       "      <td>0.720781</td>\n",
       "      <td>1.626351</td>\n",
       "      <td>1.154483</td>\n",
       "      <td>0.957877</td>\n",
       "      <td>1.285597</td>\n",
       "      <td>0</td>\n",
       "    </tr>\n",
       "    <tr>\n",
       "      <th>3</th>\n",
       "      <td>3</td>\n",
       "      <td>1.234204</td>\n",
       "      <td>1.386726</td>\n",
       "      <td>0.653046</td>\n",
       "      <td>0.825624</td>\n",
       "      <td>1.142504</td>\n",
       "      <td>0.875128</td>\n",
       "      <td>1.409708</td>\n",
       "      <td>1.380003</td>\n",
       "      <td>1.522692</td>\n",
       "      <td>1.153093</td>\n",
       "      <td>1</td>\n",
       "    </tr>\n",
       "    <tr>\n",
       "      <th>4</th>\n",
       "      <td>4</td>\n",
       "      <td>1.279491</td>\n",
       "      <td>0.949750</td>\n",
       "      <td>0.627280</td>\n",
       "      <td>0.668976</td>\n",
       "      <td>1.232537</td>\n",
       "      <td>0.703727</td>\n",
       "      <td>1.115596</td>\n",
       "      <td>0.646691</td>\n",
       "      <td>1.463812</td>\n",
       "      <td>1.419167</td>\n",
       "      <td>1</td>\n",
       "    </tr>\n",
       "  </tbody>\n",
       "</table>\n",
       "</div>"
      ],
      "text/plain": [
       "   Unnamed: 0       WTT       PTI       EQW       SBI       LQE       QWG  \\\n",
       "0           0  0.913917  1.162073  0.567946  0.755464  0.780862  0.352608   \n",
       "1           1  0.635632  1.003722  0.535342  0.825645  0.924109  0.648450   \n",
       "2           2  0.721360  1.201493  0.921990  0.855595  1.526629  0.720781   \n",
       "3           3  1.234204  1.386726  0.653046  0.825624  1.142504  0.875128   \n",
       "4           4  1.279491  0.949750  0.627280  0.668976  1.232537  0.703727   \n",
       "\n",
       "        FDJ       PJF       HQE       NXJ  TARGET CLASS  \n",
       "0  0.759697  0.643798  0.879422  1.231409             1  \n",
       "1  0.675334  1.013546  0.621552  1.492702             0  \n",
       "2  1.626351  1.154483  0.957877  1.285597             0  \n",
       "3  1.409708  1.380003  1.522692  1.153093             1  \n",
       "4  1.115596  0.646691  1.463812  1.419167             1  "
      ]
     },
     "execution_count": 4,
     "metadata": {},
     "output_type": "execute_result"
    }
   ],
   "source": [
    "df.head()"
   ]
  },
  {
   "cell_type": "code",
   "execution_count": 5,
   "metadata": {
    "collapsed": true
   },
   "outputs": [],
   "source": [
    "from sklearn.preprocessing import StandardScaler"
   ]
  },
  {
   "cell_type": "code",
   "execution_count": 6,
   "metadata": {
    "collapsed": true
   },
   "outputs": [],
   "source": [
    "scaler = StandardScaler()"
   ]
  },
  {
   "cell_type": "code",
   "execution_count": 7,
   "metadata": {
    "collapsed": false
   },
   "outputs": [
    {
     "data": {
      "text/plain": [
       "StandardScaler(copy=True, with_mean=True, with_std=True)"
      ]
     },
     "execution_count": 7,
     "metadata": {},
     "output_type": "execute_result"
    }
   ],
   "source": [
    "scaler.fit(df.drop('TARGET CLASS', axis=1))"
   ]
  },
  {
   "cell_type": "code",
   "execution_count": 8,
   "metadata": {
    "collapsed": true
   },
   "outputs": [],
   "source": [
    "scaledFeatures = scaler.transform(df.drop('TARGET CLASS', axis=1))"
   ]
  },
  {
   "cell_type": "code",
   "execution_count": 9,
   "metadata": {
    "collapsed": false
   },
   "outputs": [
    {
     "data": {
      "text/plain": [
       "array([[-1.73031962, -0.12354188,  0.18590747, ..., -1.48236813,\n",
       "        -0.9497194 , -0.64331425],\n",
       "       [-1.72685552, -1.08483602, -0.43034845, ..., -0.20224031,\n",
       "        -1.82805088,  0.63675862],\n",
       "       [-1.72339142, -0.78870217,  0.33931821, ...,  0.28570652,\n",
       "        -0.68249379, -0.37784986],\n",
       "       ...,\n",
       "       [ 1.72339142,  0.64177714, -0.51308341, ..., -2.36249443,\n",
       "        -0.81426092,  0.11159651],\n",
       "       [ 1.72685552,  0.46707241, -0.98278576, ..., -0.03677699,\n",
       "         0.40602453, -0.85567   ],\n",
       "       [ 1.73031962, -0.38765353, -0.59589427, ..., -0.56778932,\n",
       "         0.3369971 ,  0.01034996]])"
      ]
     },
     "execution_count": 9,
     "metadata": {},
     "output_type": "execute_result"
    }
   ],
   "source": [
    "scaledFeatures"
   ]
  },
  {
   "cell_type": "code",
   "execution_count": 10,
   "metadata": {
    "collapsed": true
   },
   "outputs": [],
   "source": [
    "dfFeatures = pd.DataFrame(scaledFeatures, columns=df.columns[:-1])"
   ]
  },
  {
   "cell_type": "code",
   "execution_count": 11,
   "metadata": {
    "collapsed": false
   },
   "outputs": [
    {
     "data": {
      "text/html": [
       "<div>\n",
       "<style scoped>\n",
       "    .dataframe tbody tr th:only-of-type {\n",
       "        vertical-align: middle;\n",
       "    }\n",
       "\n",
       "    .dataframe tbody tr th {\n",
       "        vertical-align: top;\n",
       "    }\n",
       "\n",
       "    .dataframe thead th {\n",
       "        text-align: right;\n",
       "    }\n",
       "</style>\n",
       "<table border=\"1\" class=\"dataframe\">\n",
       "  <thead>\n",
       "    <tr style=\"text-align: right;\">\n",
       "      <th></th>\n",
       "      <th>Unnamed: 0</th>\n",
       "      <th>WTT</th>\n",
       "      <th>PTI</th>\n",
       "      <th>EQW</th>\n",
       "      <th>SBI</th>\n",
       "      <th>LQE</th>\n",
       "      <th>QWG</th>\n",
       "      <th>FDJ</th>\n",
       "      <th>PJF</th>\n",
       "      <th>HQE</th>\n",
       "      <th>NXJ</th>\n",
       "    </tr>\n",
       "  </thead>\n",
       "  <tbody>\n",
       "    <tr>\n",
       "      <th>0</th>\n",
       "      <td>-1.730320</td>\n",
       "      <td>-0.123542</td>\n",
       "      <td>0.185907</td>\n",
       "      <td>-0.913431</td>\n",
       "      <td>0.319629</td>\n",
       "      <td>-1.033637</td>\n",
       "      <td>-2.308375</td>\n",
       "      <td>-0.798951</td>\n",
       "      <td>-1.482368</td>\n",
       "      <td>-0.949719</td>\n",
       "      <td>-0.643314</td>\n",
       "    </tr>\n",
       "    <tr>\n",
       "      <th>1</th>\n",
       "      <td>-1.726856</td>\n",
       "      <td>-1.084836</td>\n",
       "      <td>-0.430348</td>\n",
       "      <td>-1.025313</td>\n",
       "      <td>0.625388</td>\n",
       "      <td>-0.444847</td>\n",
       "      <td>-1.152706</td>\n",
       "      <td>-1.129797</td>\n",
       "      <td>-0.202240</td>\n",
       "      <td>-1.828051</td>\n",
       "      <td>0.636759</td>\n",
       "    </tr>\n",
       "    <tr>\n",
       "      <th>2</th>\n",
       "      <td>-1.723391</td>\n",
       "      <td>-0.788702</td>\n",
       "      <td>0.339318</td>\n",
       "      <td>0.301511</td>\n",
       "      <td>0.755873</td>\n",
       "      <td>2.031693</td>\n",
       "      <td>-0.870156</td>\n",
       "      <td>2.599818</td>\n",
       "      <td>0.285707</td>\n",
       "      <td>-0.682494</td>\n",
       "      <td>-0.377850</td>\n",
       "    </tr>\n",
       "    <tr>\n",
       "      <th>3</th>\n",
       "      <td>-1.719927</td>\n",
       "      <td>0.982841</td>\n",
       "      <td>1.060193</td>\n",
       "      <td>-0.621399</td>\n",
       "      <td>0.625299</td>\n",
       "      <td>0.452820</td>\n",
       "      <td>-0.267220</td>\n",
       "      <td>1.750208</td>\n",
       "      <td>1.066491</td>\n",
       "      <td>1.241325</td>\n",
       "      <td>-1.026987</td>\n",
       "    </tr>\n",
       "    <tr>\n",
       "      <th>4</th>\n",
       "      <td>-1.716463</td>\n",
       "      <td>1.139275</td>\n",
       "      <td>-0.640392</td>\n",
       "      <td>-0.709819</td>\n",
       "      <td>-0.057175</td>\n",
       "      <td>0.822886</td>\n",
       "      <td>-0.936773</td>\n",
       "      <td>0.596782</td>\n",
       "      <td>-1.472352</td>\n",
       "      <td>1.040772</td>\n",
       "      <td>0.276510</td>\n",
       "    </tr>\n",
       "  </tbody>\n",
       "</table>\n",
       "</div>"
      ],
      "text/plain": [
       "   Unnamed: 0       WTT       PTI       EQW       SBI       LQE       QWG  \\\n",
       "0   -1.730320 -0.123542  0.185907 -0.913431  0.319629 -1.033637 -2.308375   \n",
       "1   -1.726856 -1.084836 -0.430348 -1.025313  0.625388 -0.444847 -1.152706   \n",
       "2   -1.723391 -0.788702  0.339318  0.301511  0.755873  2.031693 -0.870156   \n",
       "3   -1.719927  0.982841  1.060193 -0.621399  0.625299  0.452820 -0.267220   \n",
       "4   -1.716463  1.139275 -0.640392 -0.709819 -0.057175  0.822886 -0.936773   \n",
       "\n",
       "        FDJ       PJF       HQE       NXJ  \n",
       "0 -0.798951 -1.482368 -0.949719 -0.643314  \n",
       "1 -1.129797 -0.202240 -1.828051  0.636759  \n",
       "2  2.599818  0.285707 -0.682494 -0.377850  \n",
       "3  1.750208  1.066491  1.241325 -1.026987  \n",
       "4  0.596782 -1.472352  1.040772  0.276510  "
      ]
     },
     "execution_count": 11,
     "metadata": {},
     "output_type": "execute_result"
    }
   ],
   "source": [
    "dfFeatures.head()"
   ]
  },
  {
   "cell_type": "code",
   "execution_count": 12,
   "metadata": {
    "collapsed": false
   },
   "outputs": [
    {
     "name": "stderr",
     "output_type": "stream",
     "text": [
      "D:\\Anaconda\\lib\\site-packages\\sklearn\\cross_validation.py:41: DeprecationWarning: This module was deprecated in version 0.18 in favor of the model_selection module into which all the refactored classes and functions are moved. Also note that the interface of the new CV iterators are different from that of this module. This module will be removed in 0.20.\n",
      "  \"This module will be removed in 0.20.\", DeprecationWarning)\n"
     ]
    }
   ],
   "source": [
    "from sklearn.cross_validation import train_test_split"
   ]
  },
  {
   "cell_type": "code",
   "execution_count": 13,
   "metadata": {
    "collapsed": true
   },
   "outputs": [],
   "source": [
    "X = dfFeatures\n",
    "y = df['TARGET CLASS']\n",
    "\n",
    "X_train, X_test, y_train, y_test = train_test_split(X, y, test_size=0.3, random_state=101)"
   ]
  },
  {
   "cell_type": "code",
   "execution_count": 14,
   "metadata": {
    "collapsed": true
   },
   "outputs": [],
   "source": [
    "from sklearn.neighbors import KNeighborsClassifier"
   ]
  },
  {
   "cell_type": "code",
   "execution_count": 15,
   "metadata": {
    "collapsed": true
   },
   "outputs": [],
   "source": [
    "KNN = KNeighborsClassifier()"
   ]
  },
  {
   "cell_type": "code",
   "execution_count": 16,
   "metadata": {
    "collapsed": false
   },
   "outputs": [
    {
     "data": {
      "text/plain": [
       "KNeighborsClassifier(algorithm='auto', leaf_size=30, metric='minkowski',\n",
       "           metric_params=None, n_jobs=1, n_neighbors=5, p=2,\n",
       "           weights='uniform')"
      ]
     },
     "execution_count": 16,
     "metadata": {},
     "output_type": "execute_result"
    }
   ],
   "source": [
    "KNN.fit(X_train, y_train)"
   ]
  },
  {
   "cell_type": "code",
   "execution_count": 17,
   "metadata": {
    "collapsed": true
   },
   "outputs": [],
   "source": [
    "predictions = KNN.predict(X_test)"
   ]
  },
  {
   "cell_type": "code",
   "execution_count": 18,
   "metadata": {
    "collapsed": false
   },
   "outputs": [
    {
     "data": {
      "text/plain": [
       "array([0, 0, 0, 0, 0, 0, 1, 1, 0, 0, 1, 0, 1, 1, 0, 1, 1, 1, 1, 0, 0, 1,\n",
       "       0, 1, 1, 0, 0, 0, 1, 0, 0, 1, 1, 0, 1, 0, 0, 0, 1, 0, 1, 1, 0, 1,\n",
       "       1, 0, 1, 1, 0, 1, 0, 1, 1, 0, 0, 0, 0, 0, 0, 0, 0, 1, 1, 0, 0, 1,\n",
       "       0, 0, 0, 0, 0, 0, 1, 0, 0, 0, 0, 0, 1, 0, 1, 0, 0, 0, 1, 0, 0, 0,\n",
       "       1, 0, 0, 1, 0, 1, 0, 0, 1, 1, 0, 0, 0, 1, 1, 0, 0, 1, 1, 1, 1, 0,\n",
       "       0, 0, 0, 0, 1, 0, 1, 1, 0, 1, 1, 1, 0, 1, 1, 1, 0, 1, 0, 0, 0, 1,\n",
       "       1, 1, 1, 0, 1, 1, 1, 0, 0, 1, 1, 0, 1, 0, 0, 0, 1, 1, 1, 0, 0, 1,\n",
       "       1, 1, 0, 1, 0, 0, 0, 1, 0, 1, 1, 0, 1, 0, 0, 0, 1, 1, 1, 1, 0, 0,\n",
       "       1, 1, 0, 0, 1, 1, 1, 0, 1, 0, 0, 1, 0, 1, 1, 1, 1, 1, 1, 1, 0, 1,\n",
       "       0, 1, 0, 0, 1, 1, 0, 1, 0, 0, 0, 0, 1, 1, 1, 1, 0, 0, 0, 1, 0, 0,\n",
       "       0, 1, 0, 0, 1, 1, 0, 1, 0, 0, 1, 1, 0, 1, 0, 1, 0, 0, 1, 0, 0, 1,\n",
       "       0, 0, 1, 0, 1, 0, 0, 1, 1, 0, 0, 0, 1, 1, 0, 1, 1, 0, 1, 0, 1, 1,\n",
       "       1, 0, 0, 1, 0, 0, 0, 0, 1, 0, 1, 0, 1, 0, 1, 0, 1, 0, 1, 0, 0, 1,\n",
       "       0, 1, 1, 0, 0, 0, 1, 1, 1, 0, 1, 1, 1, 0], dtype=int64)"
      ]
     },
     "execution_count": 18,
     "metadata": {},
     "output_type": "execute_result"
    }
   ],
   "source": [
    "predictions"
   ]
  },
  {
   "cell_type": "code",
   "execution_count": 19,
   "metadata": {
    "collapsed": true
   },
   "outputs": [],
   "source": [
    "from sklearn.metrics import classification_report, confusion_matrix"
   ]
  },
  {
   "cell_type": "code",
   "execution_count": 21,
   "metadata": {
    "collapsed": false
   },
   "outputs": [
    {
     "name": "stdout",
     "output_type": "stream",
     "text": [
      "[[147  12]\n",
      " [ 12 129]]\n",
      "\n",
      "\n",
      "             precision    recall  f1-score   support\n",
      "\n",
      "          0       0.92      0.92      0.92       159\n",
      "          1       0.91      0.91      0.91       141\n",
      "\n",
      "avg / total       0.92      0.92      0.92       300\n",
      "\n"
     ]
    }
   ],
   "source": [
    "print(confusion_matrix(y_test, predictions))\n",
    "print ('\\n')\n",
    "print(classification_report(y_test, predictions))"
   ]
  },
  {
   "cell_type": "code",
   "execution_count": 22,
   "metadata": {
    "collapsed": true
   },
   "outputs": [],
   "source": [
    "errorRate = []\n",
    "\n",
    "for i in range(1,40):\n",
    "    knn = KNeighborsClassifier(n_neighbors = i)\n",
    "    knn.fit(X_train,y_train)\n",
    "    predictionSamples = knn.predict(X_test)\n",
    "    errorRate.append(np.mean(predictionSamples != y_test))"
   ]
  },
  {
   "cell_type": "code",
   "execution_count": 23,
   "metadata": {
    "collapsed": false
   },
   "outputs": [
    {
     "data": {
      "text/plain": [
       "[<matplotlib.lines.Line2D at 0x2ec06b16908>]"
      ]
     },
     "execution_count": 23,
     "metadata": {},
     "output_type": "execute_result"
    },
    {
     "data": {
      "image/png": "[encoded data removed]",
      "text/plain": [
       "<matplotlib.figure.Figure at 0x2ec06a87a90>"
      ]
     },
     "metadata": {},
     "output_type": "display_data"
    }
   ],
   "source": [
    "plt.plot(range(1,40), errorRate, color='blue', linestyle='dashed', marker='o',\n",
    "     markerfacecolor='red', markersize=12)"
   ]
  },
  {
   "cell_type": "code",
   "execution_count": 38,
   "metadata": {
    "collapsed": false
   },
   "outputs": [
    {
     "name": "stdout",
     "output_type": "stream",
     "text": [
      "elapsed time :  0.012429314447615525\n"
     ]
    }
   ],
   "source": [
    "startTime = timeit.default_timer()\n",
    "knn = KNeighborsClassifier(n_neighbors= 30)\n",
    "knn.fit(X_train, y_train)\n",
    "predictions = knn.predict(X_test)\n",
    "elapsedTime = timeit.default_timer() - startTime\n",
    "print(\"elapsed time : \",elapsedTime)"
   ]
  },
  {
   "cell_type": "code",
   "execution_count": 28,
   "metadata": {
    "collapsed": false,
    "scrolled": true
   },
   "outputs": [
    {
     "name": "stdout",
     "output_type": "stream",
     "text": [
      "[[153   6]\n",
      " [  7 134]]\n",
      "\n",
      "\n",
      "             precision    recall  f1-score   support\n",
      "\n",
      "          0       0.96      0.96      0.96       159\n",
      "          1       0.96      0.95      0.95       141\n",
      "\n",
      "avg / total       0.96      0.96      0.96       300\n",
      "\n"
     ]
    }
   ],
   "source": [
    "print(confusion_matrix(y_test, predictions))\n",
    "print ('\\n')\n",
    "print(classification_report(y_test, predictions))"
   ]
  },
  {
   "cell_type": "markdown",
   "metadata": {},
   "source": [
    "<h6>TILL THIS ONLY KNN IS USED WHICH IS PROVIDING 96% ACCURACY WITH COMPUTATION TIME OF 0.0124</h6>"
   ]
  },
  {
   "cell_type": "markdown",
   "metadata": {},
   "source": [
    "<h6>NOW FROM DOWNWARDS HERE WE HAVE PASSED THE WHOLE DATA TO OUR SCA ALGORITHM</h6> "
   ]
  },
  {
   "cell_type": "code",
   "execution_count": 30,
   "metadata": {
    "collapsed": true
   },
   "outputs": [],
   "source": [
    "data = dfFeatures"
   ]
  },
  {
   "cell_type": "code",
   "execution_count": 29,
   "metadata": {
    "collapsed": true
   },
   "outputs": [],
   "source": [
    "import timeit"
   ]
  },
  {
   "cell_type": "code",
   "execution_count": 32,
   "metadata": {
    "collapsed": false
   },
   "outputs": [
    {
     "name": "stdout",
     "output_type": "stream",
     "text": [
      "time taken :  0.014380271139499547\n",
      "subset :  [5, 2, 6]  error :  0.296969696969697  lowest error :  100\n",
      "time taken :  0.009487755714511895\n",
      "subset :  [4, 8, 7]  error :  0.23939393939393938  lowest error :  0.296969696969697\n",
      "time taken :  0.009525092337248957\n",
      "subset :  [1, 5, 7]  error :  0.2606060606060606  lowest error :  0.23939393939393938\n",
      "time taken :  0.009463179709672316\n",
      "subset :  [3, 1, 6]  error :  0.1606060606060606  lowest error :  0.23939393939393938\n",
      "time taken :  0.009502879409797785\n",
      "subset :  [9, 4, 7]  error :  0.21515151515151515  lowest error :  0.1606060606060606\n",
      "time taken :  0.010982165854949572\n",
      "subset :  [9, 5, 6]  error :  0.19393939393939394  lowest error :  0.1606060606060606\n",
      "[3, 1, 6]\n",
      "time taken :  0.009644664053103075\n",
      "subset :  [7, 2, 8]  error :  0.18181818181818182  lowest error :  0.1606060606060606\n",
      "time taken :  0.00944238462865421\n",
      "subset :  [5, 1, 9]  error :  0.14545454545454545  lowest error :  0.1606060606060606\n",
      "time taken :  0.009255701514968906\n",
      "subset :  [1, 7, 9]  error :  0.18181818181818182  lowest error :  0.14545454545454545\n",
      "time taken :  0.009529345876548106\n",
      "subset :  [4, 1, 8]  error :  0.15757575757575756  lowest error :  0.14545454545454545\n",
      "time taken :  0.00948255694425737\n",
      "subset :  [2, 5, 9]  error :  0.15454545454545454  lowest error :  0.14545454545454545\n",
      "time taken :  0.009362512612925561\n",
      "subset :  [2, 7, 8]  error :  0.18181818181818182  lowest error :  0.14545454545454545\n",
      "time taken :  0.00947215940374832\n",
      "subset :  [7, 2, 1]  error :  0.17575757575757575  lowest error :  0.14545454545454545\n",
      "time taken :  0.01055917500242215\n",
      "subset :  [9, 4, 2]  error :  0.1696969696969697  lowest error :  0.14545454545454545\n",
      "time taken :  0.010003379200665408\n",
      "subset :  [1, 2, 5]  error :  0.18484848484848485  lowest error :  0.14545454545454545\n",
      "time taken :  0.011066764025455034\n",
      "subset :  [4, 1, 9]  error :  0.16666666666666666  lowest error :  0.14545454545454545\n",
      "time taken :  0.01337360017203204\n",
      "subset :  [3, 2, 9]  error :  0.09090909090909091  lowest error :  0.14545454545454545\n",
      "[3, 2, 9]\n",
      "time taken :  0.014117969549384768\n",
      "subset :  [7, 3, 3]  error :  0.19696969696969696  lowest error :  0.09090909090909091\n",
      "time taken :  0.009727844377175554\n",
      "subset :  [5, 2, 3]  error :  0.17272727272727273  lowest error :  0.09090909090909091\n",
      "time taken :  0.009621505894696514\n",
      "subset :  [3, 8, 3]  error :  0.1303030303030303  lowest error :  0.09090909090909091\n",
      "time taken :  0.010426370053192857\n",
      "subset :  [5, 2, 3]  error :  0.17272727272727273  lowest error :  0.09090909090909091\n",
      "time taken :  0.011155615735259694\n",
      "subset :  [4, 5, 3]  error :  0.20909090909090908  lowest error :  0.09090909090909091\n",
      "time taken :  0.009353060303371907\n",
      "subset :  [4, 8, 3]  error :  0.12424242424242424  lowest error :  0.09090909090909091\n",
      "time taken :  0.010463706675929885\n",
      "subset :  [7, 3, 0]  error :  0.19393939393939394  lowest error :  0.09090909090909091\n",
      "time taken :  0.00965695205552286\n",
      "subset :  [0, 4, 0]  error :  0.48484848484848486  lowest error :  0.09090909090909091\n",
      "time taken :  0.010857867984318648\n",
      "subset :  [3, 3, 2]  error :  0.15757575757575756  lowest error :  0.09090909090909091\n",
      "time taken :  0.021094719230960124\n",
      "subset :  [5, 2, 3]  error :  0.17272727272727273  lowest error :  0.09090909090909091\n",
      "time taken :  0.009614889278008909\n",
      "subset :  [4, 3, 3]  error :  0.21515151515151515  lowest error :  0.09090909090909091\n",
      "time taken :  0.00950618771814149\n",
      "subset :  [6, 1, 5]  error :  0.25757575757575757  lowest error :  0.09090909090909091\n",
      "time taken :  0.01053837992140405\n",
      "subset :  [9, 4, 3]  error :  0.11212121212121212  lowest error :  0.09090909090909091\n",
      "time taken :  0.009939103495700374\n",
      "subset :  [7, 9, 4]  error :  0.21515151515151515  lowest error :  0.09090909090909091\n",
      "time taken :  0.009771797616600186\n",
      "subset :  [2, 7, 9]  error :  0.16363636363636364  lowest error :  0.09090909090909091\n",
      "time taken :  0.011519529653076677\n",
      "subset :  [6, 1, 5]  error :  0.25757575757575757  lowest error :  0.09090909090909091\n",
      "[3, 2, 9]\n",
      "time taken :  0.013220000141784594\n",
      "subset :  [9, 3, 7]  error :  0.10909090909090909  lowest error :  0.09090909090909091\n",
      "time taken :  0.009679637598451696\n",
      "subset :  [5, 2, 7]  error :  0.32727272727272727  lowest error :  0.09090909090909091\n",
      "time taken :  0.01323276075968205\n",
      "subset :  [3, 1, 7]  error :  0.1484848484848485  lowest error :  0.09090909090909091\n",
      "time taken :  0.013706321468321736\n",
      "subset :  [5, 2, 7]  error :  0.32727272727272727  lowest error :  0.09090909090909091\n",
      "time taken :  0.0114113007086869\n",
      "subset :  [4, 6, 7]  error :  0.37575757575757573  lowest error :  0.09090909090909091\n",
      "time taken :  0.010246303556195158\n",
      "subset :  [4, 1, 7]  error :  0.2696969696969697  lowest error :  0.09090909090909091\n",
      "time taken :  0.011742604158543557\n",
      "subset :  [9, 3, 5]  error :  0.10909090909090909  lowest error :  0.09090909090909091\n",
      "time taken :  0.008882335287598297\n",
      "subset :  [1, 5, 5]  error :  0.2545454545454545  lowest error :  0.09090909090909091\n",
      "time taken :  0.009292565522228236\n",
      "subset :  [3, 3, 6]  error :  0.21818181818181817  lowest error :  0.09090909090909091\n",
      "time taken :  0.010101683220023805\n",
      "subset :  [5, 2, 7]  error :  0.32727272727272727  lowest error :  0.09090909090909091\n",
      "time taken :  0.01002890043646043\n",
      "subset :  [4, 3, 7]  error :  0.21212121212121213  lowest error :  0.09090909090909091\n",
      "time taken :  0.011581914896130918\n",
      "subset :  [7, 1, 8]  error :  0.15151515151515152  lowest error :  0.09090909090909091\n",
      "time taken :  0.011638156137975364\n",
      "subset :  [2, 5, 7]  error :  0.32727272727272727  lowest error :  0.09090909090909091\n",
      "time taken :  0.01075767350304957\n",
      "subset :  [9, 2, 7]  error :  0.16363636363636364  lowest error :  0.09090909090909091\n",
      "time taken :  0.011244467445064354\n",
      "subset :  [2, 9, 9]  error :  0.15151515151515152  lowest error :  0.09090909090909091\n",
      "time taken :  0.009634266512594025\n",
      "subset :  [7, 1, 8]  error :  0.15151515151515152  lowest error :  0.09090909090909091\n",
      "time taken :  0.009243413512549092\n",
      "subset :  [4, 7, 2]  error :  0.2878787878787879  lowest error :  0.09090909090909091\n",
      "time taken :  0.01244349291194935\n",
      "subset :  [8, 6, 4]  error :  0.23636363636363636  lowest error :  0.09090909090909091\n",
      "time taken :  0.010590840239427024\n",
      "subset :  [7, 9, 6]  error :  0.18787878787878787  lowest error :  0.09090909090909091\n",
      "time taken :  0.009813860394114027\n",
      "subset :  [6, 4, 1]  error :  0.24545454545454545  lowest error :  0.09090909090909091\n",
      "time taken :  0.009574244346928218\n",
      "subset :  [8, 6, 5]  error :  0.20909090909090908  lowest error :  0.09090909090909091\n",
      "[3, 2, 9]\n",
      "time taken :  0.010280331870588633\n",
      "subset :  [9, 3, 8]  error :  0.06060606060606061  lowest error :  0.09090909090909091\n",
      "time taken :  0.009156452264655224\n",
      "subset :  [5, 2, 8]  error :  0.17575757575757575  lowest error :  0.06060606060606061\n",
      "time taken :  0.011566791200845028\n",
      "subset :  [3, 1, 8]  error :  0.09696969696969697  lowest error :  0.06060606060606061\n",
      "time taken :  0.012963369937402103\n",
      "subset :  [5, 2, 8]  error :  0.17575757575757575  lowest error :  0.06060606060606061\n",
      "time taken :  0.012702013578242521\n",
      "subset :  [4, 6, 8]  error :  0.23636363636363636  lowest error :  0.06060606060606061\n",
      "time taken :  0.011172157276978734\n",
      "subset :  [4, 1, 8]  error :  0.15757575757575756  lowest error :  0.06060606060606061\n",
      "time taken :  0.012057838682159039\n",
      "subset :  [9, 3, 6]  error :  0.10303030303030303  lowest error :  0.06060606060606061\n",
      "time taken :  0.009742022841505937\n",
      "subset :  [1, 5, 6]  error :  0.25757575757575757  lowest error :  0.06060606060606061\n",
      "time taken :  0.009819059164368538\n",
      "subset :  [3, 3, 7]  error :  0.19696969696969696  lowest error :  0.06060606060606061\n",
      "time taken :  0.010127204455818717\n",
      "subset :  [5, 2, 8]  error :  0.17575757575757575  lowest error :  0.06060606060606061\n",
      "time taken :  0.009849779170418183\n",
      "subset :  [4, 3, 8]  error :  0.12424242424242424  lowest error :  0.06060606060606061\n",
      "time taken :  0.011179719124621679\n",
      "subset :  [7, 1, 8]  error :  0.15151515151515152  lowest error :  0.06060606060606061\n",
      "time taken :  0.0104088832805187\n",
      "subset :  [2, 5, 8]  error :  0.17575757575757575  lowest error :  0.06060606060606061\n",
      "time taken :  0.012611744022005045\n",
      "subset :  [9, 2, 8]  error :  0.11212121212121212  lowest error :  0.06060606060606061\n",
      "time taken :  0.010018030280473544\n",
      "subset :  [2, 9, 9]  error :  0.15151515151515152  lowest error :  0.06060606060606061\n",
      "time taken :  0.010391869123321795\n",
      "subset :  [7, 1, 8]  error :  0.15151515151515152  lowest error :  0.06060606060606061\n",
      "time taken :  0.009920671492070543\n",
      "subset :  [4, 7, 3]  error :  0.21212121212121213  lowest error :  0.06060606060606061\n",
      "time taken :  0.009317141527067863\n",
      "subset :  [8, 6, 5]  error :  0.20909090909090908  lowest error :  0.06060606060606061\n",
      "time taken :  0.008591676768822554\n",
      "subset :  [7, 9, 7]  error :  0.21212121212121213  lowest error :  0.06060606060606061\n",
      "time taken :  0.010081360754483182\n",
      "subset :  [6, 4, 3]  error :  0.20303030303030303  lowest error :  0.06060606060606061\n",
      "time taken :  0.008295346864314546\n",
      "subset :  [8, 6, 6]  error :  0.23333333333333334  lowest error :  0.06060606060606061\n",
      "time taken :  0.009785503465453038\n",
      "subset :  [6, 2, 5]  error :  0.296969696969697  lowest error :  0.06060606060606061\n",
      "time taken :  0.013767288864943161\n",
      "subset :  [8, 7, 2]  error :  0.18181818181818182  lowest error :  0.06060606060606061\n",
      "time taken :  0.010507659915354406\n",
      "subset :  [2, 5, 8]  error :  0.17575757575757575  lowest error :  0.06060606060606061\n",
      "time taken :  0.010896149838010905\n",
      "subset :  [9, 8, 3]  error :  0.06060606060606061  lowest error :  0.06060606060606061\n",
      "time taken :  0.012290365497179767\n",
      "subset :  [1, 7, 4]  error :  0.2696969696969697  lowest error :  0.06060606060606061\n",
      "[9, 3, 8]\n",
      "time taken :  0.010265680790780163\n",
      "subset :  [9, 3, 8]  error :  0.06060606060606061  lowest error :  0.06060606060606061\n",
      "time taken :  0.010889533221323466\n",
      "subset :  [6, 2, 8]  error :  0.17272727272727273  lowest error :  0.06060606060606061\n",
      "time taken :  0.009213166121977423\n",
      "subset :  [5, 1, 8]  error :  0.15757575757575756  lowest error :  0.06060606060606061\n",
      "time taken :  0.009613944047053513\n",
      "subset :  [6, 2, 8]  error :  0.17272727272727273  lowest error :  0.06060606060606061\n",
      "time taken :  0.008663514321430421\n",
      "subset :  [6, 6, 8]  error :  0.23333333333333334  lowest error :  0.06060606060606061\n",
      "time taken :  0.00952603756820447\n",
      "subset :  [6, 1, 8]  error :  0.14545454545454545  lowest error :  0.06060606060606061\n",
      "time taken :  0.009876718252646244\n",
      "subset :  [9, 3, 7]  error :  0.10909090909090909  lowest error :  0.06060606060606061\n",
      "time taken :  0.010894259376100335\n",
      "subset :  [4, 5, 7]  error :  0.4  lowest error :  0.06060606060606061\n",
      "time taken :  0.009401739697573408\n",
      "subset :  [5, 3, 7]  error :  0.22424242424242424  lowest error :  0.06060606060606061\n",
      "time taken :  0.010128622302251866\n",
      "subset :  [6, 2, 8]  error :  0.17272727272727273  lowest error :  0.06060606060606061\n",
      "time taken :  0.01067260271706627\n",
      "subset :  [6, 3, 8]  error :  0.10909090909090909  lowest error :  0.06060606060606061\n",
      "time taken :  0.01259094894098678\n",
      "subset :  [8, 1, 8]  error :  0.1606060606060606  lowest error :  0.06060606060606061\n",
      "time taken :  0.01290760131103541\n",
      "subset :  [4, 5, 8]  error :  0.22727272727272727  lowest error :  0.06060606060606061\n",
      "time taken :  0.009910746567039386\n",
      "subset :  [9, 2, 8]  error :  0.11212121212121212  lowest error :  0.06060606060606061\n",
      "time taken :  0.010293092488485867\n",
      "subset :  [4, 0, 9]  error :  0.22727272727272727  lowest error :  0.06060606060606061\n",
      "time taken :  0.009095957483511663\n",
      "subset :  [8, 1, 8]  error :  0.1606060606060606  lowest error :  0.06060606060606061\n",
      "time taken :  0.009285476290062933\n",
      "subset :  [6, 8, 5]  error :  0.20909090909090908  lowest error :  0.06060606060606061\n",
      "time taken :  0.009013722390394552\n",
      "subset :  [8, 6, 6]  error :  0.23333333333333334  lowest error :  0.06060606060606061\n",
      "time taken :  0.009810079470292443\n",
      "subset :  [8, 0, 7]  error :  0.23333333333333334  lowest error :  0.06060606060606061\n",
      "time taken :  0.011190116665130478\n",
      "subset :  [7, 4, 5]  error :  0.4  lowest error :  0.06060606060606061\n",
      "time taken :  0.01040746543408555\n",
      "subset :  [8, 6, 7]  error :  0.20606060606060606  lowest error :  0.06060606060606061\n",
      "time taken :  0.010271352176512316\n",
      "subset :  [7, 2, 6]  error :  0.25757575757575757  lowest error :  0.06060606060606061\n",
      "time taken :  0.009151253494400713\n",
      "subset :  [8, 8, 4]  error :  0.2515151515151515  lowest error :  0.06060606060606061\n",
      "time taken :  0.013392504791139404\n",
      "subset :  [4, 5, 8]  error :  0.22727272727272727  lowest error :  0.06060606060606061\n",
      "time taken :  0.00871172110015439\n",
      "subset :  [9, 9, 5]  error :  0.20909090909090908  lowest error :  0.06060606060606061\n",
      "time taken :  0.009949973651687039\n",
      "subset :  [4, 8, 5]  error :  0.22727272727272727  lowest error :  0.06060606060606061\n",
      "time taken :  0.00980440808456029\n",
      "subset :  [8, 5, 6]  error :  0.20909090909090908  lowest error :  0.06060606060606061\n",
      "time taken :  0.009665931749599288\n",
      "subset :  [7, 3, 4]  error :  0.21212121212121213  lowest error :  0.06060606060606061\n",
      "time taken :  0.00939370523445282\n",
      "subset :  [7, 3, 6]  error :  0.20606060606060606  lowest error :  0.06060606060606061\n",
      "time taken :  0.009682945906795748\n",
      "subset :  [1, 2, 3]  error :  0.10606060606060606  lowest error :  0.06060606060606061\n",
      "time taken :  0.009368183998657909\n",
      "subset :  [1, 5, 7]  error :  0.2606060606060606  lowest error :  0.06060606060606061\n",
      "[9, 3, 8]\n",
      "best solution:  [9, 3, 8]\n"
     ]
    }
   ],
   "source": [
    "import random\n",
    "import math\n",
    "\n",
    "\n",
    "#SCA IMPLEMENTATION\n",
    "#begin\n",
    "#Randomly initialization of each search agents in the population X(t = 1,2,...,m)\n",
    "a = 1\n",
    "totalFeatures = len(data.columns[:-1])\n",
    "r1 = a\n",
    "t = 0\n",
    "subsets = []\n",
    "subsets.append(random.sample(range(1,totalFeatures),3))#initializing first random subset\n",
    "lowestError = 100 #initializing as highest errorRate for comparison purpose\n",
    "\n",
    "#Function for checking the new generated subset tempSet is already present in the already initialized subsets or not\n",
    "def isRepeat(subsets, tempSet):\n",
    "    #print(subsets)\n",
    "    #print(tempSet)\n",
    "    for subset in subsets:\n",
    "        valueSet = set()\n",
    "        for feature in subset:\n",
    "            valueSet.add(feature)\n",
    "    for feature in tempSet:\n",
    "        if((feature in valueSet) == False):\n",
    "            return False\n",
    "        \n",
    "#for generating random search agents in the population   \n",
    "def randomSearchAgents(m, n):\n",
    "    i = 1\n",
    "    while i<m:\n",
    "        X = random.sample(range(1,totalFeatures),n)\n",
    "        if (isRepeat(subsets, X) == False):\n",
    "            subsets.append(X)\n",
    "            i += 1\n",
    "            \n",
    "#EQUATION 1\n",
    "def updateUsingSineCosine(X):\n",
    "    featureSubset = []\n",
    "    for j in range(len(X)):\n",
    "        #print(X[j])\n",
    "        if(s%2 == 0):\n",
    "            feature = int(X[j] + r1*r2*abs(r3*P[j]-X[j]))\n",
    "        else:\n",
    "            feature = int(X[j] + r1*r2*abs(r3*P[j]-X[j]))\n",
    "        feature %= totalFeatures\n",
    "        featureSubset.append(feature)\n",
    "    return featureSubset\n",
    "\n",
    "\n",
    "#FOR CHECKING THE SCORE FOR EACH SELECTED FEATURE SUBSET\n",
    "def trainTestScore(X, y):\n",
    "    X.head()\n",
    "    X_train, X_test, y_train, y_test = train_test_split(X, y, test_size = 0.33, random_state = 42)\n",
    "    startTime = timeit.default_timer()\n",
    "    knn = KNeighborsClassifier(n_neighbors = 17)\n",
    "    knn.fit(X_train, y_train)\n",
    "    prediction = knn.predict(X_test)\n",
    "    elapsedTime = timeit.default_timer() - startTime\n",
    "    print(\"time taken : \",elapsedTime)\n",
    "    error = np.mean(prediction != y_test)\n",
    "    errorRate.append(error)\n",
    "    return error\n",
    "\n",
    "#here subsets list contains the list of randomly initialized search agent indices\n",
    "\n",
    "#INITIALIZE the max numbers of iteration Tmax\n",
    "Tmax = 6\n",
    "P = []\n",
    "\n",
    "while t<Tmax:\n",
    "    #foreach search agent Xi in the population do\n",
    "    randomSearchAgents(6, 3)\n",
    "    '''NOVELTY\n",
    "        here the feature subsets generated by randomSearchAgents method are not repeatative, \n",
    "        if any randomly generated feature subset is already present in the previous generated \n",
    "        ones then it is neglected and a new feature subset is generated randomly and checked again.\n",
    "        This process continues until required number of feature subsets are generated which are all unique\n",
    "    NOVEL'''\n",
    "    for subset in subsets:\n",
    "        #Evaluate Xi via the fitness function. if f(Xi)\n",
    "        error = trainTestScore(data.iloc[:,subset], df['TARGET CLASS'])\n",
    "        print(\"subset : \",subset,\" error : \",error, \" lowest error : \", lowestError)\n",
    "        #if f(Xi) better than f(P) then\n",
    "        #Set P = Xi;\n",
    "        if (error < lowestError):\n",
    "            P = subset\n",
    "            lowestError = error\n",
    "    \n",
    "    #Update r1 using equation 2\n",
    "    \n",
    "    r1 = a - t*(a/Tmax)#equation 2\n",
    "    \n",
    "    #Generate randomly new values for r2, r3 and s.\n",
    "    \n",
    "    s = int(round(random.random(),1)*10)\n",
    "    r2 = random.uniform(0.1, 1.0)\n",
    "    r3 = random.uniform(0.1,2.0)\n",
    "    #foreach search agent Xi in the population do\n",
    "    #Update Xi using equation 1.\n",
    "    for i in range(len(subsets)):\n",
    "        subsets[i] = updateUsingSineCosine(subsets[i])\n",
    "    print(P)\n",
    "    t += 1\n",
    "#Return P best solution obtained so far.\n",
    "print(\"best solution: \",P)"
   ]
  },
  {
   "cell_type": "code",
   "execution_count": 35,
   "metadata": {
    "collapsed": false
   },
   "outputs": [
    {
     "name": "stdout",
     "output_type": "stream",
     "text": [
      "time taken :  0.009830401935829514\n",
      "error :  0.06060606060606061\n"
     ]
    }
   ],
   "source": [
    "X_train, X_test, y_train, y_test = train_test_split(data.iloc[:,P], df['TARGET CLASS'], test_size = 0.33, random_state = 42)\n",
    "startTime = timeit.default_timer()\n",
    "knn = KNeighborsClassifier(n_neighbors = 17)\n",
    "knn.fit(X_train, y_train)\n",
    "prediction = knn.predict(X_test)\n",
    "elapsedTime = timeit.default_timer() - startTime\n",
    "print(\"time taken : \",elapsedTime)\n",
    "error = np.mean(prediction != y_test)\n",
    "print(\"error : \",error)"
   ]
  },
  {
   "cell_type": "code",
   "execution_count": 37,
   "metadata": {
    "collapsed": false
   },
   "outputs": [
    {
     "name": "stdout",
     "output_type": "stream",
     "text": [
      "[[145  10]\n",
      " [ 10 165]]\n",
      "\n",
      "\n",
      "             precision    recall  f1-score   support\n",
      "\n",
      "          0       0.94      0.94      0.94       155\n",
      "          1       0.94      0.94      0.94       175\n",
      "\n",
      "avg / total       0.94      0.94      0.94       330\n",
      "\n"
     ]
    }
   ],
   "source": [
    "print(confusion_matrix(y_test, prediction))\n",
    "print ('\\n')\n",
    "print(classification_report(y_test, prediction))"
   ]
  },
  {
   "cell_type": "markdown",
   "metadata": {},
   "source": [
    "</h6><b>OUR SCA IS TAKIING VERY REDUCED TIME OF 0.0098 AND PROVIDING ACCURACY OF 94%</b></h6>"
   ]
  }
 ],
 "metadata": {
  "kernelspec": {
   "display_name": "Python [default]",
   "language": "python",
   "name": "python3"
  },
  "language_info": {
   "codemirror_mode": {
    "name": "ipython",
    "version": 3
   },
   "file_extension": ".py",
   "mimetype": "text/x-python",
   "name": "python",
   "nbconvert_exporter": "python",
   "pygments_lexer": "ipython3",
   "version": "3.5.2"
  }
 },
 "nbformat": 4,
 "nbformat_minor": 2
}
