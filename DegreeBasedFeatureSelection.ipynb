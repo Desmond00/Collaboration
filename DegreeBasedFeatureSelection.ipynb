{
 "cells": [
  {
   "cell_type": "code",
   "execution_count": 1,
   "metadata": {},
   "outputs": [],
   "source": [
    "import pandas as pd\n",
    "import numpy as np"
   ]
  },
  {
   "cell_type": "code",
   "execution_count": 2,
   "metadata": {},
   "outputs": [],
   "source": [
    "import matplotlib.pyplot as plt\n",
    "import seaborn as sns\n",
    "%matplotlib inline"
   ]
  },
  {
   "cell_type": "code",
   "execution_count": 3,
   "metadata": {},
   "outputs": [],
   "source": [
    "df = pd.read_csv('Classified Data')\n",
    "#It can be found here https://mega.nz/#!qpNWUBia!2rAtAmt8F3lcXqSC18yhKhRonlFt0DdnB51c24uAXzk\n",
    "#P.S. open the link in Desktop browser or in desktop mode of your mobile browser for best availability"
   ]
  },
  {
   "cell_type": "code",
   "execution_count": 4,
   "metadata": {},
   "outputs": [],
   "source": [
    "df.drop('Unnamed: 0', axis=1, inplace=True)\n",
    "#dropped this column because of the column was representing row no.s which was not required for our FS task"
   ]
  },
  {
   "cell_type": "code",
   "execution_count": 5,
   "metadata": {},
   "outputs": [
    {
     "data": {
      "text/html": [
       "<div>\n",
       "<style scoped>\n",
       "    .dataframe tbody tr th:only-of-type {\n",
       "        vertical-align: middle;\n",
       "    }\n",
       "\n",
       "    .dataframe tbody tr th {\n",
       "        vertical-align: top;\n",
       "    }\n",
       "\n",
       "    .dataframe thead th {\n",
       "        text-align: right;\n",
       "    }\n",
       "</style>\n",
       "<table border=\"1\" class=\"dataframe\">\n",
       "  <thead>\n",
       "    <tr style=\"text-align: right;\">\n",
       "      <th></th>\n",
       "      <th>WTT</th>\n",
       "      <th>PTI</th>\n",
       "      <th>EQW</th>\n",
       "      <th>SBI</th>\n",
       "      <th>LQE</th>\n",
       "      <th>QWG</th>\n",
       "      <th>FDJ</th>\n",
       "      <th>PJF</th>\n",
       "      <th>HQE</th>\n",
       "      <th>NXJ</th>\n",
       "      <th>TARGET CLASS</th>\n",
       "    </tr>\n",
       "  </thead>\n",
       "  <tbody>\n",
       "    <tr>\n",
       "      <th>0</th>\n",
       "      <td>0.913917</td>\n",
       "      <td>1.162073</td>\n",
       "      <td>0.567946</td>\n",
       "      <td>0.755464</td>\n",
       "      <td>0.780862</td>\n",
       "      <td>0.352608</td>\n",
       "      <td>0.759697</td>\n",
       "      <td>0.643798</td>\n",
       "      <td>0.879422</td>\n",
       "      <td>1.231409</td>\n",
       "      <td>1</td>\n",
       "    </tr>\n",
       "    <tr>\n",
       "      <th>1</th>\n",
       "      <td>0.635632</td>\n",
       "      <td>1.003722</td>\n",
       "      <td>0.535342</td>\n",
       "      <td>0.825645</td>\n",
       "      <td>0.924109</td>\n",
       "      <td>0.648450</td>\n",
       "      <td>0.675334</td>\n",
       "      <td>1.013546</td>\n",
       "      <td>0.621552</td>\n",
       "      <td>1.492702</td>\n",
       "      <td>0</td>\n",
       "    </tr>\n",
       "    <tr>\n",
       "      <th>2</th>\n",
       "      <td>0.721360</td>\n",
       "      <td>1.201493</td>\n",
       "      <td>0.921990</td>\n",
       "      <td>0.855595</td>\n",
       "      <td>1.526629</td>\n",
       "      <td>0.720781</td>\n",
       "      <td>1.626351</td>\n",
       "      <td>1.154483</td>\n",
       "      <td>0.957877</td>\n",
       "      <td>1.285597</td>\n",
       "      <td>0</td>\n",
       "    </tr>\n",
       "    <tr>\n",
       "      <th>3</th>\n",
       "      <td>1.234204</td>\n",
       "      <td>1.386726</td>\n",
       "      <td>0.653046</td>\n",
       "      <td>0.825624</td>\n",
       "      <td>1.142504</td>\n",
       "      <td>0.875128</td>\n",
       "      <td>1.409708</td>\n",
       "      <td>1.380003</td>\n",
       "      <td>1.522692</td>\n",
       "      <td>1.153093</td>\n",
       "      <td>1</td>\n",
       "    </tr>\n",
       "    <tr>\n",
       "      <th>4</th>\n",
       "      <td>1.279491</td>\n",
       "      <td>0.949750</td>\n",
       "      <td>0.627280</td>\n",
       "      <td>0.668976</td>\n",
       "      <td>1.232537</td>\n",
       "      <td>0.703727</td>\n",
       "      <td>1.115596</td>\n",
       "      <td>0.646691</td>\n",
       "      <td>1.463812</td>\n",
       "      <td>1.419167</td>\n",
       "      <td>1</td>\n",
       "    </tr>\n",
       "  </tbody>\n",
       "</table>\n",
       "</div>"
      ],
      "text/plain": [
       "        WTT       PTI       EQW       SBI       LQE       QWG       FDJ  \\\n",
       "0  0.913917  1.162073  0.567946  0.755464  0.780862  0.352608  0.759697   \n",
       "1  0.635632  1.003722  0.535342  0.825645  0.924109  0.648450  0.675334   \n",
       "2  0.721360  1.201493  0.921990  0.855595  1.526629  0.720781  1.626351   \n",
       "3  1.234204  1.386726  0.653046  0.825624  1.142504  0.875128  1.409708   \n",
       "4  1.279491  0.949750  0.627280  0.668976  1.232537  0.703727  1.115596   \n",
       "\n",
       "        PJF       HQE       NXJ  TARGET CLASS  \n",
       "0  0.643798  0.879422  1.231409             1  \n",
       "1  1.013546  0.621552  1.492702             0  \n",
       "2  1.154483  0.957877  1.285597             0  \n",
       "3  1.380003  1.522692  1.153093             1  \n",
       "4  0.646691  1.463812  1.419167             1  "
      ]
     },
     "execution_count": 5,
     "metadata": {},
     "output_type": "execute_result"
    }
   ],
   "source": [
    "df.head()"
   ]
  },
  {
   "cell_type": "code",
   "execution_count": 6,
   "metadata": {},
   "outputs": [],
   "source": [
    "from sklearn.preprocessing import StandardScaler"
   ]
  },
  {
   "cell_type": "code",
   "execution_count": 7,
   "metadata": {},
   "outputs": [],
   "source": [
    "scaler = StandardScaler()"
   ]
  },
  {
   "cell_type": "code",
   "execution_count": 8,
   "metadata": {},
   "outputs": [
    {
     "data": {
      "text/plain": [
       "StandardScaler(copy=True, with_mean=True, with_std=True)"
      ]
     },
     "execution_count": 8,
     "metadata": {},
     "output_type": "execute_result"
    }
   ],
   "source": [
    "scaler.fit(df.drop('TARGET CLASS', axis=1))"
   ]
  },
  {
   "cell_type": "code",
   "execution_count": 9,
   "metadata": {},
   "outputs": [],
   "source": [
    "scaledFeatures = scaler.transform(df.drop('TARGET CLASS', axis=1))"
   ]
  },
  {
   "cell_type": "code",
   "execution_count": 10,
   "metadata": {},
   "outputs": [
    {
     "data": {
      "text/plain": [
       "array([[-0.12354188,  0.18590747, -0.91343069, ..., -1.48236813,\n",
       "        -0.9497194 , -0.64331425],\n",
       "       [-1.08483602, -0.43034845, -1.02531333, ..., -0.20224031,\n",
       "        -1.82805088,  0.63675862],\n",
       "       [-0.78870217,  0.33931821,  0.30151137, ...,  0.28570652,\n",
       "        -0.68249379, -0.37784986],\n",
       "       ...,\n",
       "       [ 0.64177714, -0.51308341, -0.17920486, ..., -2.36249443,\n",
       "        -0.81426092,  0.11159651],\n",
       "       [ 0.46707241, -0.98278576, -1.46519359, ..., -0.03677699,\n",
       "         0.40602453, -0.85567   ],\n",
       "       [-0.38765353, -0.59589427, -1.4313981 , ..., -0.56778932,\n",
       "         0.3369971 ,  0.01034996]])"
      ]
     },
     "execution_count": 10,
     "metadata": {},
     "output_type": "execute_result"
    }
   ],
   "source": [
    "scaledFeatures"
   ]
  },
  {
   "cell_type": "code",
   "execution_count": 11,
   "metadata": {},
   "outputs": [],
   "source": [
    "dfFeatures = pd.DataFrame(scaledFeatures, columns=df.columns[:-1])"
   ]
  },
  {
   "cell_type": "code",
   "execution_count": 12,
   "metadata": {},
   "outputs": [
    {
     "data": {
      "text/html": [
       "<div>\n",
       "<style scoped>\n",
       "    .dataframe tbody tr th:only-of-type {\n",
       "        vertical-align: middle;\n",
       "    }\n",
       "\n",
       "    .dataframe tbody tr th {\n",
       "        vertical-align: top;\n",
       "    }\n",
       "\n",
       "    .dataframe thead th {\n",
       "        text-align: right;\n",
       "    }\n",
       "</style>\n",
       "<table border=\"1\" class=\"dataframe\">\n",
       "  <thead>\n",
       "    <tr style=\"text-align: right;\">\n",
       "      <th></th>\n",
       "      <th>WTT</th>\n",
       "      <th>PTI</th>\n",
       "      <th>EQW</th>\n",
       "      <th>SBI</th>\n",
       "      <th>LQE</th>\n",
       "      <th>QWG</th>\n",
       "      <th>FDJ</th>\n",
       "      <th>PJF</th>\n",
       "      <th>HQE</th>\n",
       "      <th>NXJ</th>\n",
       "    </tr>\n",
       "  </thead>\n",
       "  <tbody>\n",
       "    <tr>\n",
       "      <th>0</th>\n",
       "      <td>-0.123542</td>\n",
       "      <td>0.185907</td>\n",
       "      <td>-0.913431</td>\n",
       "      <td>0.319629</td>\n",
       "      <td>-1.033637</td>\n",
       "      <td>-2.308375</td>\n",
       "      <td>-0.798951</td>\n",
       "      <td>-1.482368</td>\n",
       "      <td>-0.949719</td>\n",
       "      <td>-0.643314</td>\n",
       "    </tr>\n",
       "    <tr>\n",
       "      <th>1</th>\n",
       "      <td>-1.084836</td>\n",
       "      <td>-0.430348</td>\n",
       "      <td>-1.025313</td>\n",
       "      <td>0.625388</td>\n",
       "      <td>-0.444847</td>\n",
       "      <td>-1.152706</td>\n",
       "      <td>-1.129797</td>\n",
       "      <td>-0.202240</td>\n",
       "      <td>-1.828051</td>\n",
       "      <td>0.636759</td>\n",
       "    </tr>\n",
       "    <tr>\n",
       "      <th>2</th>\n",
       "      <td>-0.788702</td>\n",
       "      <td>0.339318</td>\n",
       "      <td>0.301511</td>\n",
       "      <td>0.755873</td>\n",
       "      <td>2.031693</td>\n",
       "      <td>-0.870156</td>\n",
       "      <td>2.599818</td>\n",
       "      <td>0.285707</td>\n",
       "      <td>-0.682494</td>\n",
       "      <td>-0.377850</td>\n",
       "    </tr>\n",
       "    <tr>\n",
       "      <th>3</th>\n",
       "      <td>0.982841</td>\n",
       "      <td>1.060193</td>\n",
       "      <td>-0.621399</td>\n",
       "      <td>0.625299</td>\n",
       "      <td>0.452820</td>\n",
       "      <td>-0.267220</td>\n",
       "      <td>1.750208</td>\n",
       "      <td>1.066491</td>\n",
       "      <td>1.241325</td>\n",
       "      <td>-1.026987</td>\n",
       "    </tr>\n",
       "    <tr>\n",
       "      <th>4</th>\n",
       "      <td>1.139275</td>\n",
       "      <td>-0.640392</td>\n",
       "      <td>-0.709819</td>\n",
       "      <td>-0.057175</td>\n",
       "      <td>0.822886</td>\n",
       "      <td>-0.936773</td>\n",
       "      <td>0.596782</td>\n",
       "      <td>-1.472352</td>\n",
       "      <td>1.040772</td>\n",
       "      <td>0.276510</td>\n",
       "    </tr>\n",
       "  </tbody>\n",
       "</table>\n",
       "</div>"
      ],
      "text/plain": [
       "        WTT       PTI       EQW       SBI       LQE       QWG       FDJ  \\\n",
       "0 -0.123542  0.185907 -0.913431  0.319629 -1.033637 -2.308375 -0.798951   \n",
       "1 -1.084836 -0.430348 -1.025313  0.625388 -0.444847 -1.152706 -1.129797   \n",
       "2 -0.788702  0.339318  0.301511  0.755873  2.031693 -0.870156  2.599818   \n",
       "3  0.982841  1.060193 -0.621399  0.625299  0.452820 -0.267220  1.750208   \n",
       "4  1.139275 -0.640392 -0.709819 -0.057175  0.822886 -0.936773  0.596782   \n",
       "\n",
       "        PJF       HQE       NXJ  \n",
       "0 -1.482368 -0.949719 -0.643314  \n",
       "1 -0.202240 -1.828051  0.636759  \n",
       "2  0.285707 -0.682494 -0.377850  \n",
       "3  1.066491  1.241325 -1.026987  \n",
       "4 -1.472352  1.040772  0.276510  "
      ]
     },
     "execution_count": 12,
     "metadata": {},
     "output_type": "execute_result"
    }
   ],
   "source": [
    "dfFeatures.head()"
   ]
  },
  {
   "cell_type": "code",
   "execution_count": 13,
   "metadata": {},
   "outputs": [
    {
     "name": "stderr",
     "output_type": "stream",
     "text": [
      "D:\\Anaconda\\lib\\site-packages\\sklearn\\cross_validation.py:41: DeprecationWarning: This module was deprecated in version 0.18 in favor of the model_selection module into which all the refactored classes and functions are moved. Also note that the interface of the new CV iterators are different from that of this module. This module will be removed in 0.20.\n",
      "  \"This module will be removed in 0.20.\", DeprecationWarning)\n"
     ]
    }
   ],
   "source": [
    "from sklearn.cross_validation import train_test_split"
   ]
  },
  {
   "cell_type": "code",
   "execution_count": 14,
   "metadata": {},
   "outputs": [],
   "source": [
    "X = dfFeatures\n",
    "y = df['TARGET CLASS']\n",
    "\n",
    "X_train, X_test, y_train, y_test = train_test_split(X, y, test_size=0.3, random_state=101)"
   ]
  },
  {
   "cell_type": "code",
   "execution_count": 15,
   "metadata": {},
   "outputs": [],
   "source": [
    "from sklearn.neighbors import KNeighborsClassifier"
   ]
  },
  {
   "cell_type": "code",
   "execution_count": 16,
   "metadata": {},
   "outputs": [],
   "source": [
    "KNN = KNeighborsClassifier()"
   ]
  },
  {
   "cell_type": "code",
   "execution_count": 17,
   "metadata": {},
   "outputs": [
    {
     "data": {
      "text/plain": [
       "KNeighborsClassifier(algorithm='auto', leaf_size=30, metric='minkowski',\n",
       "           metric_params=None, n_jobs=1, n_neighbors=5, p=2,\n",
       "           weights='uniform')"
      ]
     },
     "execution_count": 17,
     "metadata": {},
     "output_type": "execute_result"
    }
   ],
   "source": [
    "KNN.fit(X_train, y_train)"
   ]
  },
  {
   "cell_type": "code",
   "execution_count": 18,
   "metadata": {},
   "outputs": [],
   "source": [
    "predictions = KNN.predict(X_test)"
   ]
  },
  {
   "cell_type": "code",
   "execution_count": 19,
   "metadata": {},
   "outputs": [
    {
     "data": {
      "text/plain": [
       "array([0, 0, 0, 0, 0, 0, 1, 1, 0, 0, 1, 0, 0, 1, 0, 1, 1, 1, 1, 0, 0, 1,\n",
       "       0, 1, 1, 0, 0, 0, 1, 0, 0, 1, 1, 0, 1, 0, 0, 0, 1, 0, 1, 1, 0, 1,\n",
       "       1, 0, 1, 1, 0, 1, 0, 1, 1, 0, 0, 0, 0, 0, 0, 0, 0, 1, 1, 0, 0, 1,\n",
       "       0, 0, 0, 0, 0, 0, 1, 0, 0, 0, 0, 0, 1, 0, 1, 0, 0, 0, 1, 0, 0, 0,\n",
       "       1, 0, 0, 1, 0, 1, 0, 0, 1, 1, 0, 0, 0, 1, 1, 1, 0, 0, 0, 1, 1, 0,\n",
       "       0, 0, 0, 0, 1, 0, 1, 1, 0, 1, 1, 1, 0, 1, 1, 1, 0, 1, 0, 0, 0, 1,\n",
       "       1, 1, 1, 0, 1, 1, 1, 0, 0, 1, 1, 0, 1, 0, 0, 0, 1, 1, 1, 0, 0, 1,\n",
       "       1, 1, 0, 1, 0, 0, 0, 1, 0, 0, 1, 0, 1, 0, 0, 0, 0, 1, 1, 0, 0, 0,\n",
       "       1, 1, 0, 0, 1, 1, 1, 0, 1, 0, 0, 1, 0, 1, 1, 1, 1, 1, 1, 1, 0, 1,\n",
       "       0, 1, 0, 0, 1, 1, 0, 1, 0, 0, 0, 0, 1, 1, 1, 1, 0, 0, 0, 1, 0, 0,\n",
       "       0, 1, 0, 0, 1, 1, 0, 1, 0, 0, 1, 1, 0, 1, 0, 1, 0, 0, 1, 0, 0, 1,\n",
       "       0, 0, 1, 0, 1, 0, 0, 1, 1, 0, 0, 0, 1, 1, 0, 1, 1, 0, 1, 0, 1, 1,\n",
       "       1, 0, 0, 1, 0, 0, 0, 0, 1, 0, 1, 0, 1, 0, 1, 0, 0, 0, 1, 0, 0, 0,\n",
       "       0, 1, 1, 0, 0, 0, 1, 1, 1, 0, 1, 1, 1, 0], dtype=int64)"
      ]
     },
     "execution_count": 19,
     "metadata": {},
     "output_type": "execute_result"
    }
   ],
   "source": [
    "predictions"
   ]
  },
  {
   "cell_type": "code",
   "execution_count": 20,
   "metadata": {},
   "outputs": [],
   "source": [
    "from sklearn.metrics import classification_report, confusion_matrix"
   ]
  },
  {
   "cell_type": "code",
   "execution_count": 21,
   "metadata": {},
   "outputs": [
    {
     "name": "stdout",
     "output_type": "stream",
     "text": [
      "[[154   5]\n",
      " [ 12 129]]\n",
      "\n",
      "\n",
      "             precision    recall  f1-score   support\n",
      "\n",
      "          0       0.93      0.97      0.95       159\n",
      "          1       0.96      0.91      0.94       141\n",
      "\n",
      "avg / total       0.94      0.94      0.94       300\n",
      "\n"
     ]
    }
   ],
   "source": [
    "print(confusion_matrix(y_test, predictions))\n",
    "print ('\\n')\n",
    "print(classification_report(y_test, predictions))"
   ]
  },
  {
   "cell_type": "code",
   "execution_count": 22,
   "metadata": {},
   "outputs": [],
   "source": [
    "errorRate = []\n",
    "\n",
    "for i in range(1,40):\n",
    "    knn = KNeighborsClassifier(n_neighbors = i)\n",
    "    knn.fit(X_train,y_train)\n",
    "    predictionSamples = knn.predict(X_test)\n",
    "    errorRate.append(np.mean(predictionSamples != y_test))"
   ]
  },
  {
   "cell_type": "code",
   "execution_count": 23,
   "metadata": {},
   "outputs": [
    {
     "data": {
      "text/plain": [
       "[<matplotlib.lines.Line2D at 0x1ab7d892128>]"
      ]
     },
     "execution_count": 23,
     "metadata": {},
     "output_type": "execute_result"
    },
    {
     "data": {
      "image/png": "[encoded data removed]",
      "text/plain": [
       "<matplotlib.figure.Figure at 0x1ab7d7a6550>"
      ]
     },
     "metadata": {},
     "output_type": "display_data"
    }
   ],
   "source": [
    "plt.plot(range(1,40), errorRate, color='blue', linestyle='dashed', marker='o',\n",
    "     markerfacecolor='red', markersize=12)"
   ]
  },
  {
   "cell_type": "code",
   "execution_count": 24,
   "metadata": {},
   "outputs": [],
   "source": [
    "import timeit"
   ]
  },
  {
   "cell_type": "code",
   "execution_count": 25,
   "metadata": {},
   "outputs": [
    {
     "name": "stdout",
     "output_type": "stream",
     "text": [
      "elapsed time :  0.018215248152107195\n"
     ]
    }
   ],
   "source": [
    "startTime = timeit.default_timer()\n",
    "knn = KNeighborsClassifier(n_neighbors= 30)\n",
    "knn.fit(X_train, y_train)\n",
    "predictions = knn.predict(X_test)\n",
    "elapsedTime = timeit.default_timer() - startTime\n",
    "print(\"elapsed time : \",elapsedTime)"
   ]
  },
  {
   "cell_type": "code",
   "execution_count": 26,
   "metadata": {
    "scrolled": true
   },
   "outputs": [
    {
     "name": "stdout",
     "output_type": "stream",
     "text": [
      "[[152   7]\n",
      " [  8 133]]\n",
      "\n",
      "\n",
      "             precision    recall  f1-score   support\n",
      "\n",
      "          0       0.95      0.96      0.95       159\n",
      "          1       0.95      0.94      0.95       141\n",
      "\n",
      "avg / total       0.95      0.95      0.95       300\n",
      "\n"
     ]
    }
   ],
   "source": [
    "print(confusion_matrix(y_test, predictions))\n",
    "print ('\\n')\n",
    "print(classification_report(y_test, predictions))"
   ]
  },
  {
   "cell_type": "code",
   "execution_count": 27,
   "metadata": {},
   "outputs": [
    {
     "data": {
      "text/plain": [
       "'TILL THIS ONLY KNN IS USED WHICH IS PROVIDING 96% ACCURACY WITH COMPUTATION TIME OF 0.0124'"
      ]
     },
     "execution_count": 27,
     "metadata": {},
     "output_type": "execute_result"
    }
   ],
   "source": [
    "'''TILL THIS ONLY KNN IS USED WHICH IS PROVIDING 96% ACCURACY WITH COMPUTATION TIME OF 0.0124'''"
   ]
  },
  {
   "cell_type": "code",
   "execution_count": null,
   "metadata": {},
   "outputs": [],
   "source": []
  },
  {
   "cell_type": "code",
   "execution_count": 28,
   "metadata": {},
   "outputs": [
    {
     "data": {
      "text/plain": [
       "'NOW FROM HERE WE HAVE PASSED THE WHOLE DATA TO OUR SCA ALGORITHM '"
      ]
     },
     "execution_count": 28,
     "metadata": {},
     "output_type": "execute_result"
    }
   ],
   "source": [
    "'''NOW FROM HERE WE HAVE PASSED THE WHOLE DATA TO OUR SCA ALGORITHM '''"
   ]
  },
  {
   "cell_type": "code",
   "execution_count": 29,
   "metadata": {},
   "outputs": [],
   "source": [
    "data = dfFeatures"
   ]
  },
  {
   "cell_type": "code",
   "execution_count": 141,
   "metadata": {},
   "outputs": [
    {
     "name": "stdout",
     "output_type": "stream",
     "text": [
      "randomly initialized subsets:  [[3, 6, 7], [2, 6, 7], [1, 2, 8], [2, 4, 6], [2, 7, 8], [5, 6, 7], [2, 3, 7], [1, 3, 4], [1, 5, 8]]\n",
      "time taken :  0.004225705464705243\n",
      "subset :  [3, 6, 7]  error :  0.23939393939393938  lowest error :  100\n",
      "time taken :  0.003194879091097391\n",
      "subset :  [2, 6, 7]  error :  0.12727272727272726  lowest error :  0.23939393939393938\n",
      "time taken :  0.0035635189869935857\n",
      "subset :  [1, 2, 8]  error :  0.09090909090909091  lowest error :  0.12727272727272726\n",
      "time taken :  0.003515732333653432\n",
      "subset :  [2, 4, 6]  error :  0.22424242424242424  lowest error :  0.09090909090909091\n",
      "time taken :  0.003354167934958241\n",
      "subset :  [2, 7, 8]  error :  0.06060606060606061  lowest error :  0.09090909090909091\n",
      "time taken :  0.0031249057783497847\n",
      "subset :  [5, 6, 7]  error :  0.20606060606060606  lowest error :  0.06060606060606061\n",
      "time taken :  0.0035561234335546033\n",
      "subset :  [2, 3, 7]  error :  0.12424242424242424  lowest error :  0.06060606060606061\n",
      "time taken :  0.0032187724182222155\n",
      "subset :  [1, 3, 4]  error :  0.3212121212121212  lowest error :  0.06060606060606061\n",
      "time taken :  0.003564656763956009\n",
      "subset :  [1, 5, 8]  error :  0.15757575757575756  lowest error :  0.06060606060606061\n",
      "\n",
      "\n",
      " r2: 0.9010610098673462  r3: 0.7276676809251056  s: 460  r1: 1.0\n",
      "[[4, 6, 7], [2, 6, 7], [1, 4, 0], [2, 4, 6], [2, 8, 0], [7, 6, 7], [2, 4, 7], [1, 4, 5], [1, 5, 0]]\n",
      "[2, 7, 8]\n",
      "new feature :  [4, 6, 7] t= 1\n",
      "time taken :  0.003355874600856623\n",
      "subset :  [4, 6, 7]  error :  0.21818181818181817  lowest error :  0.06060606060606061\n",
      "repeat\n",
      "time taken :  0.0033086568364524283\n",
      "subset :  [2, 6, 7]  error :  0.12727272727272726  lowest error :  0.06060606060606061\n",
      "new feature :  [0, 1, 4] t= 1\n",
      "time taken :  0.003710861166837276\n",
      "subset :  [0, 1, 4]  error :  0.18484848484848485  lowest error :  0.06060606060606061\n",
      "repeat\n",
      "time taken :  0.003644301185886434\n",
      "subset :  [2, 4, 6]  error :  0.22424242424242424  lowest error :  0.06060606060606061\n",
      "new feature :  [0, 2, 8] t= 1\n",
      "time taken :  0.003094185786721937\n",
      "subset :  [0, 2, 8]  error :  0.09696969696969697  lowest error :  0.06060606060606061\n",
      "new feature :  [6, 7, 7] t= 1\n",
      "time taken :  0.003011696921021212\n",
      "subset :  [6, 7, 7]  error :  0.24242424242424243  lowest error :  0.06060606060606061\n",
      "new feature :  [2, 4, 7] t= 1\n",
      "time taken :  0.003528247884787561\n",
      "subset :  [2, 4, 7]  error :  0.11818181818181818  lowest error :  0.06060606060606061\n",
      "new feature :  [1, 4, 5] t= 1\n",
      "time taken :  0.0030685857936987304\n",
      "subset :  [1, 4, 5]  error :  0.296969696969697  lowest error :  0.06060606060606061\n",
      "new feature :  [0, 1, 5] t= 1\n",
      "time taken :  0.0036846922848781105\n",
      "subset :  [0, 1, 5]  error :  0.16363636363636364  lowest error :  0.06060606060606061\n",
      "\n",
      "\n",
      " r2: 0.26466920116171944  r3: 0.1427536571426598  s: 461  r1: 0.8888888888888888\n",
      "[[4, 7, 8], [2, 7, 8], [0, 1, 4], [2, 4, 7], [0, 2, 0], [7, 8, 8], [2, 4, 8], [1, 4, 5], [0, 1, 5]]\n",
      "[2, 7, 8]\n",
      "new feature :  [4, 7, 8] t= 2\n",
      "time taken :  0.003158470212838438\n",
      "subset :  [4, 7, 8]  error :  0.10909090909090909  lowest error :  0.06060606060606061\n",
      "repeat\n",
      "time taken :  0.003553847878720262\n",
      "subset :  [2, 7, 8]  error :  0.06060606060606061  lowest error :  0.06060606060606061\n",
      "repeat\n",
      "time taken :  0.003482736787191243\n",
      "subset :  [0, 1, 4]  error :  0.18484848484848485  lowest error :  0.06060606060606061\n",
      "repeat\n",
      "time taken :  0.003159607990710356\n",
      "subset :  [2, 4, 7]  error :  0.11818181818181818  lowest error :  0.06060606060606061\n",
      "new feature :  [0, 0, 2] t= 2\n",
      "time taken :  0.002968461378259235\n",
      "subset :  [0, 0, 2]  error :  0.15454545454545454  lowest error :  0.06060606060606061\n",
      "new feature :  [7, 8, 8] t= 2\n",
      "time taken :  0.0028438747467589565\n",
      "subset :  [7, 8, 8]  error :  0.1303030303030303  lowest error :  0.06060606060606061\n",
      "new feature :  [2, 4, 8] t= 2\n",
      "time taken :  0.0036733145107064047\n",
      "subset :  [2, 4, 8]  error :  0.10909090909090909  lowest error :  0.06060606060606061\n",
      "repeat\n",
      "time taken :  0.003581723425668315\n",
      "subset :  [1, 4, 5]  error :  0.296969696969697  lowest error :  0.06060606060606061\n",
      "repeat\n",
      "time taken :  0.0035538478778107674\n",
      "subset :  [0, 1, 5]  error :  0.16363636363636364  lowest error :  0.06060606060606061\n",
      "\n",
      "\n",
      " r2: 0.4980085723647085  r3: 0.9383684789155057  s: 462  r1: 0.7777777777777778\n",
      "[[4, 7, 8], [2, 7, 8], [0, 3, 5], [2, 4, 7], [0, 2, 4], [8, 8, 8], [2, 4, 8], [1, 4, 5], [0, 3, 5]]\n",
      "[2, 7, 8]\n",
      "repeat\n",
      "time taken :  0.003660230069726822\n",
      "subset :  [4, 7, 8]  error :  0.10909090909090909  lowest error :  0.06060606060606061\n",
      "repeat\n",
      "time taken :  0.003419021250010701\n",
      "subset :  [2, 7, 8]  error :  0.06060606060606061  lowest error :  0.06060606060606061\n",
      "new feature :  [0, 3, 5] t= 3\n",
      "time taken :  0.00322787463755958\n",
      "subset :  [0, 3, 5]  error :  0.24545454545454545  lowest error :  0.06060606060606061\n",
      "repeat\n",
      "time taken :  0.003304674615719705\n",
      "subset :  [2, 4, 7]  error :  0.11818181818181818  lowest error :  0.06060606060606061\n",
      "new feature :  [0, 2, 4] t= 3\n",
      "time taken :  0.003164159100379038\n",
      "subset :  [0, 2, 4]  error :  0.15151515151515152  lowest error :  0.06060606060606061\n",
      "new feature :  [8, 8, 8] t= 3\n",
      "time taken :  0.0025656881589384284\n",
      "subset :  [8, 8, 8]  error :  0.24848484848484848  lowest error :  0.06060606060606061\n",
      "repeat\n",
      "time taken :  0.0034764790116241784\n",
      "subset :  [2, 4, 8]  error :  0.10909090909090909  lowest error :  0.06060606060606061\n",
      "repeat\n",
      "time taken :  0.0032637146277920692\n",
      "subset :  [1, 4, 5]  error :  0.296969696969697  lowest error :  0.06060606060606061\n",
      "repeat\n",
      "time taken :  0.003547590102243703\n",
      "subset :  [0, 3, 5]  error :  0.24545454545454545  lowest error :  0.06060606060606061\n",
      "\n",
      "\n",
      " r2: 0.41864411394916967  r3: 0.739092406049375  s: 463  r1: 0.6666666666666667\n",
      "[[4, 7, 8], [2, 7, 8], [0, 3, 5], [2, 4, 7], [0, 2, 4], [0, 8, 8], [2, 4, 8], [1, 4, 5], [0, 3, 5]]\n",
      "[2, 7, 8]\n",
      "repeat\n",
      "time taken :  0.0033262923871006933\n",
      "subset :  [4, 7, 8]  error :  0.10909090909090909  lowest error :  0.06060606060606061\n",
      "repeat\n",
      "time taken :  0.0035544167658372317\n",
      "subset :  [2, 7, 8]  error :  0.06060606060606061  lowest error :  0.06060606060606061\n",
      "repeat\n",
      "time taken :  0.0035106123350487906\n",
      "subset :  [0, 3, 5]  error :  0.24545454545454545  lowest error :  0.06060606060606061\n",
      "repeat\n",
      "time taken :  0.0034082123638654593\n",
      "subset :  [2, 4, 7]  error :  0.11818181818181818  lowest error :  0.06060606060606061\n",
      "repeat\n",
      "time taken :  0.003649990073427034\n",
      "subset :  [0, 2, 4]  error :  0.15151515151515152  lowest error :  0.06060606060606061\n",
      "new feature :  [0, 8, 8] t= 4\n",
      "time taken :  0.005125687431245751\n",
      "subset :  [0, 8, 8]  error :  0.15757575757575756  lowest error :  0.06060606060606061\n",
      "repeat\n",
      "time taken :  0.003899732223544561\n",
      "subset :  [2, 4, 8]  error :  0.10909090909090909  lowest error :  0.06060606060606061\n",
      "repeat\n",
      "time taken :  0.00502044301629212\n",
      "subset :  [1, 4, 5]  error :  0.296969696969697  lowest error :  0.06060606060606061\n",
      "repeat\n",
      "time taken :  0.00518542074769357\n",
      "subset :  [0, 3, 5]  error :  0.24545454545454545  lowest error :  0.06060606060606061\n",
      "\n",
      "\n",
      " r2: 0.26431370098889784  r3: 0.9323941578683119  s: 464  r1: 0.5555555555555556\n",
      "[[4, 7, 8], [2, 7, 8], [0, 3, 5], [2, 4, 7], [0, 2, 4], [0, 8, 8], [2, 4, 8], [1, 4, 5], [0, 3, 5]]\n",
      "[2, 7, 8]\n",
      "repeat\n",
      "time taken :  0.005690593936378718\n",
      "subset :  [4, 7, 8]  error :  0.10909090909090909  lowest error :  0.06060606060606061\n",
      "repeat\n",
      "time taken :  0.003676727843412664\n",
      "subset :  [2, 7, 8]  error :  0.06060606060606061  lowest error :  0.06060606060606061\n",
      "repeat\n",
      "time taken :  0.004213189912661619\n",
      "subset :  [0, 3, 5]  error :  0.24545454545454545  lowest error :  0.06060606060606061\n",
      "repeat\n",
      "time taken :  0.004230825463309884\n",
      "subset :  [2, 4, 7]  error :  0.11818181818181818  lowest error :  0.06060606060606061\n",
      "repeat\n",
      "time taken :  0.0037324789382182644\n",
      "subset :  [0, 2, 4]  error :  0.15151515151515152  lowest error :  0.06060606060606061\n",
      "repeat\n",
      "time taken :  0.003566363429854391\n",
      "subset :  [0, 8, 8]  error :  0.15757575757575756  lowest error :  0.06060606060606061\n",
      "repeat\n",
      "time taken :  0.0038815277848698315\n",
      "subset :  [2, 4, 8]  error :  0.10909090909090909  lowest error :  0.06060606060606061\n",
      "repeat\n",
      "time taken :  0.0038764077862651902\n",
      "subset :  [1, 4, 5]  error :  0.296969696969697  lowest error :  0.06060606060606061\n",
      "repeat\n",
      "time taken :  0.003874132231430849\n",
      "subset :  [0, 3, 5]  error :  0.24545454545454545  lowest error :  0.06060606060606061\n",
      "\n",
      "\n",
      " r2: 0.2215648736379767  r3: 0.5923885460441636  s: 465  r1: 0.4444444444444444\n",
      "[[4, 7, 8], [2, 7, 8], [0, 3, 5], [2, 4, 7], [0, 2, 4], [0, 8, 8], [2, 4, 8], [1, 4, 5], [0, 3, 5]]\n",
      "[2, 7, 8]\n",
      "repeat\n",
      "time taken :  0.004171092146862065\n",
      "subset :  [4, 7, 8]  error :  0.10909090909090909  lowest error :  0.06060606060606061\n",
      "repeat\n",
      "time taken :  0.0037011900576544576\n",
      "subset :  [2, 7, 8]  error :  0.06060606060606061  lowest error :  0.06060606060606061\n",
      "repeat\n",
      "time taken :  0.0034907012286566896\n",
      "subset :  [0, 3, 5]  error :  0.24545454545454545  lowest error :  0.06060606060606061\n",
      "repeat\n",
      "time taken :  0.0032961412844088045\n",
      "subset :  [2, 4, 7]  error :  0.11818181818181818  lowest error :  0.06060606060606061\n",
      "repeat\n",
      "time taken :  0.0035066301134065725\n",
      "subset :  [0, 2, 4]  error :  0.15151515151515152  lowest error :  0.06060606060606061\n",
      "repeat\n",
      "time taken :  0.00288312806878821\n",
      "subset :  [0, 8, 8]  error :  0.15757575757575756  lowest error :  0.06060606060606061\n",
      "repeat\n",
      "time taken :  0.003435519022787048\n",
      "subset :  [2, 4, 8]  error :  0.10909090909090909  lowest error :  0.06060606060606061\n",
      "repeat\n",
      "time taken :  0.003498096783005167\n",
      "subset :  [1, 4, 5]  error :  0.296969696969697  lowest error :  0.06060606060606061\n",
      "repeat\n",
      "time taken :  0.0035424701036390616\n",
      "subset :  [0, 3, 5]  error :  0.24545454545454545  lowest error :  0.06060606060606061\n",
      "\n",
      "\n",
      " r2: 0.5643960075249437  r3: 0.2082553643571912  s: 466  r1: 0.33333333333333337\n",
      "[[4, 7, 0], [2, 7, 0], [0, 3, 5], [2, 4, 7], [0, 2, 4], [0, 0, 0], [2, 4, 0], [1, 4, 5], [0, 3, 5]]\n",
      "[2, 7, 8]\n",
      "new feature :  [0, 4, 7] t= 7\n",
      "time taken :  0.0034804612323569017\n",
      "subset :  [0, 4, 7]  error :  0.15757575757575756  lowest error :  0.06060606060606061\n",
      "new feature :  [0, 2, 7] t= 7\n",
      "time taken :  0.0035703456505871145\n",
      "subset :  [0, 2, 7]  error :  0.09696969696969697  lowest error :  0.06060606060606061\n",
      "repeat\n",
      "time taken :  0.0035242656649643322\n",
      "subset :  [0, 3, 5]  error :  0.24545454545454545  lowest error :  0.06060606060606061\n",
      "repeat\n",
      "time taken :  0.0035908256450056797\n",
      "subset :  [2, 4, 7]  error :  0.11818181818181818  lowest error :  0.06060606060606061\n",
      "repeat\n",
      "time taken :  0.003632354522778769\n",
      "subset :  [0, 2, 4]  error :  0.15151515151515152  lowest error :  0.06060606060606061\n",
      "new feature :  [0, 0, 0] t= 7\n",
      "time taken :  0.003421296804845042\n",
      "subset :  [0, 0, 0]  error :  0.2636363636363636  lowest error :  0.06060606060606061\n",
      "repeat\n",
      "time taken :  0.0037620611519741942\n",
      "subset :  [0, 2, 4]  error :  0.15151515151515152  lowest error :  0.06060606060606061\n",
      "repeat\n"
     ]
    },
    {
     "name": "stdout",
     "output_type": "stream",
     "text": [
      "time taken :  0.0035032167807003134\n",
      "subset :  [1, 4, 5]  error :  0.296969696969697  lowest error :  0.06060606060606061\n",
      "repeat\n",
      "time taken :  0.004260976566001773\n",
      "subset :  [0, 3, 5]  error :  0.24545454545454545  lowest error :  0.06060606060606061\n",
      "\n",
      "\n",
      " r2: 0.4888259782561193  r3: 0.8888342640116305  s: 467  r1: 0.22222222222222232\n",
      "[[0, 4, 7], [0, 2, 7], [0, 3, 5], [2, 4, 7], [0, 2, 4], [0, 0, 0], [0, 2, 4], [1, 4, 5], [0, 3, 5]]\n",
      "[2, 7, 8]\n",
      "repeat\n",
      "time taken :  0.004457812065083999\n",
      "subset :  [0, 4, 7]  error :  0.15757575757575756  lowest error :  0.06060606060606061\n",
      "repeat\n",
      "time taken :  0.004275198783943779\n",
      "subset :  [0, 2, 7]  error :  0.09696969696969697  lowest error :  0.06060606060606061\n",
      "repeat\n",
      "time taken :  0.0034565679052320775\n",
      "subset :  [0, 3, 5]  error :  0.24545454545454545  lowest error :  0.06060606060606061\n",
      "repeat\n",
      "time taken :  0.003452016795563395\n",
      "subset :  [2, 4, 7]  error :  0.11818181818181818  lowest error :  0.06060606060606061\n",
      "repeat\n",
      "time taken :  0.0035566923215810675\n",
      "subset :  [0, 2, 4]  error :  0.15151515151515152  lowest error :  0.06060606060606061\n",
      "repeat\n",
      "time taken :  0.0027318036673023016\n",
      "subset :  [0, 0, 0]  error :  0.2636363636363636  lowest error :  0.06060606060606061\n",
      "repeat\n",
      "time taken :  0.00346680790244136\n",
      "subset :  [0, 2, 4]  error :  0.15151515151515152  lowest error :  0.06060606060606061\n",
      "repeat\n",
      "time taken :  0.0034275545804121066\n",
      "subset :  [1, 4, 5]  error :  0.296969696969697  lowest error :  0.06060606060606061\n",
      "repeat\n",
      "time taken :  0.003512887888973637\n",
      "subset :  [0, 3, 5]  error :  0.24545454545454545  lowest error :  0.06060606060606061\n",
      "\n",
      "\n",
      " r2: 0.4894729147206406  r3: 0.617296958818557  s: 468  r1: 0.11111111111111116\n",
      "[[0, 4, 7], [0, 2, 7], [0, 3, 5], [2, 4, 7], [0, 2, 4], [0, 0, 0], [0, 2, 4], [1, 4, 5], [0, 3, 5]]\n",
      "[2, 7, 8]\n",
      "best solution:  [2, 7, 8]\n",
      "0.06060606060606061\n"
     ]
    }
   ],
   "source": [
    "import random\n",
    "import math\n",
    "\n",
    "\n",
    "#SCA IMPLEMENTATION\n",
    "#begin\n",
    "#Randomly initialization of each search agents in the population X(t = 1,2,...,m)\n",
    "totalFeatures = len(data.columns[:-1])\n",
    "a = 1\n",
    "r1 = a\n",
    "t = 0\n",
    "subsets = []\n",
    "trainedFeatures = []\n",
    "subsets.append(random.sample(range(1,totalFeatures),int(totalFeatures/3)))#initializing first random subset\n",
    "lowestError = 100 #initializing as highest errorRate for comparison purpose\n",
    "\n",
    "#Function for checking the new generated subset tempSet is already present in the already initialized subsets or not\n",
    "def isRepeat(presentSubsets, newSubset):\n",
    "    #print(subsets)\n",
    "    #print(tempSet)\n",
    "    newSubset.sort()\n",
    "    for subset in presentSubsets:\n",
    "        subset.sort()\n",
    "        if(subset[:] == newSubset[:]):\n",
    "            return True\n",
    "    return False\n",
    "        \n",
    "#for generating random search agents in the population   \n",
    "def randomSearchAgents(m, n):\n",
    "    i = 1\n",
    "    while i<m:\n",
    "        X = random.sample(range(1,totalFeatures),n)\n",
    "        if (isRepeat(subsets, X) == False):\n",
    "            subsets.append(X)\n",
    "            i += 1\n",
    "        else:\n",
    "            continue\n",
    "            \n",
    "#EQUATION 1\n",
    "def updateUsingSineCosine(X):\n",
    "    featureSubset = []\n",
    "    for j in range(len(X)):\n",
    "        #print(X[j])\n",
    "#         if(s%2 == 0):\n",
    "        feature = int(X[j] + r1*math.sin(r2)*abs(r3*P[j]-X[j]))\n",
    "#         else:\n",
    "#             feature = int(X[j] + r1*math.cos(r2)*abs(r3*P[j]-X[j]))\n",
    "        feature %= totalFeatures\n",
    "        featureSubset.append(feature)\n",
    "    return featureSubset\n",
    "\n",
    "\n",
    "#FOR CHECKING THE SCORE FOR EACH SELECTED FEATURE SUBSET\n",
    "def trainTestScore(X, y):\n",
    "    X.head()\n",
    "    X_train, X_test, y_train, y_test = train_test_split(X, y, test_size = 0.33, random_state = 42)\n",
    "    startTime = timeit.default_timer()\n",
    "    knn = KNeighborsClassifier(n_neighbors = 17)\n",
    "    knn.fit(X_train, y_train)\n",
    "    prediction = knn.predict(X_test)\n",
    "    elapsedTime = timeit.default_timer() - startTime\n",
    "    print(\"time taken : \",elapsedTime)\n",
    "    error = np.mean(prediction != y_test)\n",
    "    errorRate.append(error)\n",
    "    return error\n",
    "\n",
    "#here subsets list contains the list of randomly initialized search agent indices\n",
    "\n",
    "#INITIALIZE the max numbers of iteration Tmax, we can take it as the total number of columns present\n",
    "Tmax = totalFeatures\n",
    "P = []\n",
    "\n",
    "'''randomly initialize feature subsets, parameter1 denotes total number of feature subsets, here taken as total no of feature avaiable\n",
    "and parameter 2 denotes number of features in each subsets, here we are considering one third of the total number of features'''\n",
    "\n",
    "randomSearchAgents(totalFeatures, int(totalFeatures/3))\n",
    "\n",
    "print(\"randomly initialized subsets: \",subsets)\n",
    "\n",
    "trainedFeatures = subsets[:]\n",
    "\n",
    "while t<Tmax:\n",
    "    #foreach search agent Xi in the population do\n",
    "    '''NOVEL \n",
    "        here the feature subsets generated by randomSearchAgents method are not repeatative, \n",
    "        if any randomly generated feature subset is already present in the previous generated \n",
    "        ones then it is neglected and a new feature subset is generated randomly and checked again.\n",
    "        This process continues until required number of feature subsets are generated which are all unique\n",
    "    NOVEL'''\n",
    "    for subset in subsets:\n",
    "        #Evaluate Xi via the fitness function. if f(Xi)\n",
    "        if(t > 0):\n",
    "            if(isRepeat(trainedFeatures, subset) == False):\n",
    "                trainedFeatures.append(subset)\n",
    "                #print(trainedFeatures)\n",
    "                print('new feature : ',subset, \"t=\",t)\n",
    "            else:\n",
    "                print(\"repeat\")\n",
    "        error = trainTestScore(data.iloc[:,subset], df['TARGET CLASS'])\n",
    "        print(\"subset : \",subset,\" error : \",error, \" lowest error : \", lowestError)\n",
    "        #if f(Xi) better than f(P) then\n",
    "        #Set P = Xi;\n",
    "        if (error < lowestError):\n",
    "            P = subset\n",
    "            lowestError = error\n",
    "    \n",
    "    #Update r1 using equation 2\n",
    "    \n",
    "    r1 = a - t*(a/Tmax)#equation 2\n",
    "    \n",
    "    #Generate randomly new values for r2, r3 and s.\n",
    "    \n",
    "    s += 1\n",
    "    r2 = random.uniform(0.1, 1.0)\n",
    "#     while r2 == 0 :\n",
    "#         r2 = random.uniform(-1, 1.0)\n",
    "    r3 = random.uniform(0.1, 1.0)\n",
    "#     while r3 == 0 :\n",
    "#         r3 = random.uniform(0.1, 1.0)\n",
    "    print('\\n\\n r2:',r2,' r3:',r3,' s:',s,' r1:',r1)\n",
    "    #foreach search agent Xi in the population do\n",
    "    #Update Xi using equation 1.\n",
    "    for i in range(len(subsets)):\n",
    "        subsets[i] = updateUsingSineCosine(subsets[i])\n",
    "    print(subsets)\n",
    "    print(P)\n",
    "    t += 1\n",
    "#Return P best solution obtained so far.\n",
    "print(\"best solution: \",P)\n",
    "print(lowestError)"
   ]
  },
  {
   "cell_type": "code",
   "execution_count": 44,
   "metadata": {},
   "outputs": [
    {
     "name": "stdout",
     "output_type": "stream",
     "text": [
      "time taken :  0.005046043009315326\n",
      "error :  0.09696969696969697\n"
     ]
    }
   ],
   "source": [
    "X_train, X_test, y_train, y_test = train_test_split(data.iloc[:,P], df['TARGET CLASS'], test_size = 0.33, random_state = 42)\n",
    "startTime = timeit.default_timer()\n",
    "knn = KNeighborsClassifier(n_neighbors = 17)\n",
    "knn.fit(X_train, y_train)\n",
    "prediction = knn.predict(X_test)\n",
    "elapsedTime = timeit.default_timer() - startTime\n",
    "print(\"time taken : \",elapsedTime)\n",
    "error = np.mean(prediction != y_test)\n",
    "print(\"error : \",error)"
   ]
  },
  {
   "cell_type": "code",
   "execution_count": 45,
   "metadata": {},
   "outputs": [
    {
     "name": "stdout",
     "output_type": "stream",
     "text": [
      "[[144  11]\n",
      " [ 21 154]]\n",
      "\n",
      "\n",
      "             precision    recall  f1-score   support\n",
      "\n",
      "          0       0.87      0.93      0.90       155\n",
      "          1       0.93      0.88      0.91       175\n",
      "\n",
      "avg / total       0.90      0.90      0.90       330\n",
      "\n"
     ]
    }
   ],
   "source": [
    "print(confusion_matrix(y_test, prediction))\n",
    "print ('\\n')\n",
    "print(classification_report(y_test, prediction))"
   ]
  },
  {
   "cell_type": "code",
   "execution_count": null,
   "metadata": {},
   "outputs": [],
   "source": [
    "'''OUR SCA IS TAKIING VERY REDUCED TIME OF 0.0098 AND PROVIDING ACCURACY OF 94%'''"
   ]
  }
 ],
 "metadata": {
  "kernelspec": {
   "display_name": "Python 3",
   "language": "python",
   "name": "python3"
  },
  "language_info": {
   "codemirror_mode": {
    "name": "ipython",
    "version": 3
   },
   "file_extension": ".py",
   "mimetype": "text/x-python",
   "name": "python",
   "nbconvert_exporter": "python",
   "pygments_lexer": "ipython3",
   "version": "3.6.4"
  }
 },
 "nbformat": 4,
 "nbformat_minor": 2
}
